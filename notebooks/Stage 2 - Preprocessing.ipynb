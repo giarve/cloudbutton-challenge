{
  "nbformat": 4,
  "nbformat_minor": 0,
  "metadata": {
    "colab": {
      "name": "Cloudbutton.ipynb",
      "provenance": [],
      "collapsed_sections": []
    },
    "kernelspec": {
      "display_name": "Python 3",
      "name": "python3",
      "language": "python"
    },
    "language_info": {
      "name": "python",
      "version": "3.9.4"
    }
  },
  "cells": [
    {
      "source": [
        "Stage 2:  Data preprocessing stage to produce structured data in csv format also stored in Cloud Object Storage. As columns in the csv file we suggest date, geographic location, url, and sentiment analysis."
      ],
      "cell_type": "markdown",
      "metadata": {}
    },
    {
      "cell_type": "code",
      "execution_count": 1,
      "metadata": {},
      "outputs": [],
      "source": [
        "import lithops\n",
        "from transformers import pipeline"
      ]
    },
    {
      "cell_type": "code",
      "metadata": {
        "id": "2v2y7IL-opxt"
      },
      "source": [
        "def analyze(string_list):\n",
        "  # this model is the best one, I tested the others available and they're quite bad...\n",
        "  classifier = pipeline('sentiment-analysis', model=\"nlptown/bert-base-multilingual-uncased-sentiment\")\n",
        "  results = classifier(string_list)\n",
        "  return results"
      ],
      "execution_count": 2,
      "outputs": []
    },
    {
      "cell_type": "code",
      "metadata": {
        "id": "FNWYmYlWosEg"
      },
      "source": [
        "to_analyze = [\n",
        "              [\"We hope you don't hate it.\", \"Hello how are you?\", \"You're beautiful\", \"Nice work there\"],\n",
        "              [\"Likewise, if the Spanish government had invested more resources in researching a vaccine, it would not have to be asking for them, it could even be selling to other countries.  You have to think a little more\", \"te he visto en plaza virreina! Vaya pedo has pillado, y sin mascarilla\"]\n",
        "              ]\n",
        "\n",
        "# Check if types are valid \n",
        "assert type(to_analyze) is list\n",
        "for supposed_list in to_analyze:\n",
        "  assert type(supposed_list) is list"
      ],
      "execution_count": 8,
      "outputs": []
    },
    {
      "cell_type": "code",
      "metadata": {
        "id": "NstiNpfTHqPy",
        "colab": {
          "base_uri": "https://localhost:8080/",
          "height": 521
        },
        "outputId": "7012ba8e-c793-4bc8-fcb8-7d02985a7823"
      },
      "source": [
        "fexec = lithops.FunctionExecutor(runtime='gilarasa/lithops-cloudbutton-challenge-py3.9:0.2', runtime_memory=2048)\n",
        "all_invocations = fexec.map(analyze, to_analyze)\n",
        "  \n",
        "for result in fexec.get_result(all_invocations):\n",
        "  for inferences in result:\n",
        "    print(inferences)"
      ],
      "execution_count": 9,
      "outputs": [
        {
          "output_type": "stream",
          "name": "stderr",
          "text": [
            "2021-05-10 21:08:42,516 [INFO] lithops.config -- Lithops v2.3.3\n",
            "2021-05-10 21:08:42,528 [INFO] lithops.storage.backends.ibm_cos.ibm_cos -- IBM COS Storage client created - Region: eu-de\n",
            "2021-05-10 21:08:44,472 [INFO] lithops.serverless.backends.ibm_cf.ibm_cf -- IBM CF client created - Region: eu-de - Namespace: Namespace-n4e-colab\n",
            "2021-05-10 21:08:44,474 [INFO] lithops.executors -- Serverless Executor created with ID: 10d114-3\n",
            "2021-05-10 21:08:44,476 [INFO] lithops.invokers -- ExecutorID 10d114-3 | JobID M000 - Selected Runtime: gilarasa/lithops-cloudbutton-challenge-py3.9:0.1 - 2048MB\n",
            "2021-05-10 21:08:44,490 [INFO] lithops.job.job -- ExecutorID 10d114-3 | JobID M000 - Uploading function and data - Total: 1.1KiB\n",
            "2021-05-10 21:08:45,083 [INFO] lithops.invokers -- ExecutorID 10d114-3 | JobID M000 - Starting function invocation: analyze() - Total: 2 activations\n",
            "2021-05-10 21:08:45,089 [INFO] lithops.invokers -- ExecutorID 10d114-3 | JobID M000 - View execution logs at /tmp/lithops/logs/10d114-3-M000.log\n",
            "2021-05-10 21:08:45,101 [INFO] lithops.wait -- ExecutorID 10d114-3 - Getting results from functions\n",
            "2021-05-10 21:09:01,199 [INFO] lithops.executors -- ExecutorID 10d114-3 - Cleaning temporary data\n",
            "{'label': '5 stars', 'score': 0.2365245223045349}\n",
            "{'label': '5 stars', 'score': 0.4638800323009491}\n",
            "{'label': '5 stars', 'score': 0.7111528515815735}\n",
            "{'label': '4 stars', 'score': 0.4651259779930115}\n",
            "{'label': '2 stars', 'score': 0.34533852338790894}\n",
            "{'label': '1 star', 'score': 0.558349072933197}\n"
          ]
        }
      ]
    },
    {
      "cell_type": "code",
      "execution_count": null,
      "metadata": {},
      "outputs": [],
      "source": []
    }
  ]
}