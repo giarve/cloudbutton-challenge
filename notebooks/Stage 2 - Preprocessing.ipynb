{
  "nbformat": 4,
  "nbformat_minor": 0,
  "metadata": {
    "colab": {
      "name": "Cloudbutton.ipynb",
      "provenance": [],
      "collapsed_sections": []
    },
    "kernelspec": {
      "display_name": "Python 3",
      "name": "python3",
      "language": "python"
    },
    "language_info": {
      "name": "python",
      "version": "3.9.4"
    }
  },
  "cells": [
    {
      "source": [
        "Stage 2:  Data preprocessing stage to produce structured data in csv format also stored in Cloud Object Storage. As columns in the csv file we suggest date, geographic location, url, and sentiment analysis."
      ],
      "cell_type": "markdown",
      "metadata": {}
    },
    {
      "cell_type": "code",
      "execution_count": null,
      "metadata": {},
      "outputs": [],
      "source": [
        "import lithops"
      ]
    },
    {
      "cell_type": "code",
      "execution_count": null,
      "metadata": {},
      "outputs": [],
      "source": [
        "from transformers import pipeline\n",
        "from custom_snscrape.twitter import Tweet\n",
        "\n",
        "# https://github.com/lithops-cloud/lithops/blob/master/docs/data_processing.md\n",
        "\n",
        "def map_preprocess(obj):\n",
        "    \n",
        "    #print('Bucket: {}'.format(obj.bucket))\n",
        "    print('Key: {}'.format(obj.key))\n",
        "    #print('Partition num: {}'.format(obj.part))\n",
        "\n",
        "    data_body_str = obj.data_stream.read().decode('utf-8')    \n",
        "    tweet = Tweet.from_json(data_body_str)\n",
        "\n",
        "    # this model is the best one, I tested the others available and they're quite bad...\n",
        "    #classifier = pipeline('sentiment-analysis', model=\"nlptown/bert-base-multilingual-uncased-sentiment\")\n",
        "    #results = classifier(tweet.content)\n",
        "    \n",
        "    return { 'id': tweet.id, 'user': tweet.user, 'content': tweet.content, 'lang': tweet.lang, 'coordinates': tweet.coordinates }"
      ]
    },
    {
      "cell_type": "code",
      "execution_count": null,
      "metadata": {},
      "outputs": [],
      "source": [
        "import csv\n",
        "from io import StringIO\n",
        "\n",
        "def reduce_to_csv(results, storage):\n",
        "    \n",
        "    column_names = results[0].keys()\n",
        "    csv_buffer = StringIO()\n",
        "\n",
        "    # with StringIO as csv_buffer: remove .close if this is used\n",
        "\n",
        "    dict_writer = csv.DictWriter(csv_buffer, column_names)\n",
        "    dict_writer.writeheader()\n",
        "    dict_writer.writerows(results)\n",
        "\n",
        "    storage.put_object(bucket='colab',\n",
        "                       key='test.csv',\n",
        "                       body=csv_buffer.getvalue())\n",
        "    \n",
        "    csv_buffer.close()\n",
        "\n",
        "    print(csv_buffer)\n",
        "\n",
        "    return \"reduced result to csv output and stored it\""
      ]
    },
    {
      "cell_type": "code",
      "metadata": {
        "id": "NstiNpfTHqPy",
        "colab": {
          "base_uri": "https://localhost:8080/",
          "height": 521
        },
        "outputId": "7012ba8e-c793-4bc8-fcb8-7d02985a7823",
        "tags": []
      },
      "source": [
        "data_location = ['colab/#coronavirus/', 'colab/#sars/', 'colab/#covid/'] # The / at the end is important TODO: Avoid repetition? Reuse tags from stage 1 and prefix them with colab/\n",
        "\n",
        "with lithops.FunctionExecutor(runtime='gilarasa/lithops-cloudbutton-challenge-py3.9:0.4', runtime_memory=2048) as fexec:\n",
        "\n",
        "  fexec.map_reduce(map_preprocess, data_location, reduce_to_csv) # obj_chunk_number param is used to divide the input string in chunks, so not to be used here \n",
        "  print(fexec.get_result())"
      ],
      "execution_count": null,
      "outputs": []
    },
    {
      "cell_type": "code",
      "execution_count": null,
      "metadata": {},
      "outputs": [],
      "source": [
        "#!lithops logs poll\n"
      ]
    },
    {
      "cell_type": "code",
      "execution_count": null,
      "metadata": {},
      "outputs": [],
      "source": []
    }
  ]
}