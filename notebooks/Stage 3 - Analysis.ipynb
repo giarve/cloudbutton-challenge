{
  "nbformat": 4,
  "nbformat_minor": 0,
  "metadata": {
    "colab": {
      "name": "Cloudbutton.ipynb",
      "provenance": [],
      "collapsed_sections": []
    },
    "kernelspec": {
      "name": "python3",
      "display_name": "Python 3.9.5 64-bit"
    },
    "language_info": {
      "name": "python",
      "version": "3.9.5"
    },
    "metadata": {
      "interpreter": {
        "hash": "8a12c58a8b58ac8253dff9b35a44630ba46221fc60666ce38f2b740db2da3db5"
      }
    },
    "interpreter": {
      "hash": "8a12c58a8b58ac8253dff9b35a44630ba46221fc60666ce38f2b740db2da3db5"
    }
  },
  "cells": [
    {
      "source": [
        "Stage 3: Python  notebook: Demonstrate simple queries in Python notebooks over your data. In particular, apply sentiment analysis to data in different dates and periods and generate simple plots. Enable search queries over the data."
      ],
      "cell_type": "markdown",
      "metadata": {}
    },
    {
      "cell_type": "code",
      "execution_count": null,
      "metadata": {},
      "outputs": [],
      "source": [
        "import lithops\n",
        "\n",
        "analysis_folder_name = ''\n",
        "\n",
        "# Retrieve analysis_folder from Stage 1 notebook\n",
        "%store -r analysis_folder_name\n",
        "\n",
        "if len(analysis_folder_name) == 0:\n",
        "    print('You have not defined any folder yet (use Stage 1 notebook or the \\'analysis_folder\\' variable directly)')\n",
        "else:\n",
        "    bucket_name = lithops.Storage().bucket\n",
        "    data = lithops.Storage().get_object(bucket_name, analysis_folder_name+'.csv', stream=True)"
      ]
    },
    {
      "cell_type": "code",
      "execution_count": null,
      "metadata": {},
      "outputs": [],
      "source": [
        "import numpy as np\n",
        "import pandas as pd\n",
        "\n",
        "pd.set_option(\"display.precision\", 2)\n",
        "df = pd.read_csv(data, parse_dates=['date'])\n",
        "df['date_norm'] = df['date'].dt.normalize()"
      ]
    },
    {
      "cell_type": "code",
      "execution_count": null,
      "metadata": {},
      "outputs": [],
      "source": [
        "import calplot\n",
        "\n",
        "# # of tweets\n",
        "calplot.calplot(df['date_norm'].value_counts(), cmap='YlGn', colorbar=True)"
      ]
    },
    {
      "cell_type": "code",
      "execution_count": null,
      "metadata": {},
      "outputs": [],
      "source": [
        "# sentiment\n",
        "calplot.calplot(df.groupby('date_norm')['sentiment'].mean(), cmap='YlGn', colorbar=True)"
      ]
    },
    {
      "cell_type": "code",
      "execution_count": null,
      "metadata": {},
      "outputs": [],
      "source": [
        "import plotly.graph_objects as go\n",
        "\n",
        "import plotly.offline\n",
        "\n",
        "grouped = df.groupby(pd.Grouper(key='date', freq='Q'))['sentiment'].value_counts()\n",
        "\n",
        "x_axis = grouped.index.levels[0]\n",
        "fig = go.Figure()\n",
        "\n",
        "for n_stars in grouped.index.levels[1]:\n",
        "    arr = []\n",
        "    for day in grouped.index.levels[0]:\n",
        "        d = grouped.get(day)\n",
        "        if d is not None:\n",
        "            arr.append(d.get(n_stars, default=0))\n",
        "    fig.add_trace(go.Bar(x=x_axis, y=arr, name=n_stars))\n",
        "\n",
        "fig.update_layout(barmode='stack')\n",
        "#fig.update_yaxes(type=\"log\")\n",
        "fig.show()\n",
        "plotly.offline.plot(fig, filename = 'results/SentimentChart1.html', auto_open=False)"
      ]
    },
    {
      "cell_type": "code",
      "execution_count": null,
      "metadata": {},
      "outputs": [],
      "source": [
        "import plotly.express as px\n",
        "groupLangs = df.groupby('lang')\n",
        "\n",
        "fig = px.bar(groupLangs, x=0, y=groupLangs.size(), title=\"Language usage\")\n",
        "fig.update_layout(xaxis_title=\"Language\", yaxis_title=\"Number of tweets\")\n",
        "fig.update_yaxes(type=\"log\")\n",
        "fig.show()"
      ]
    },
    {
      "cell_type": "code",
      "execution_count": null,
      "metadata": {},
      "outputs": [],
      "source": [
        "import plotly.figure_factory as ff\n",
        "\n",
        "# Confusion matrix\n",
        "conf_matrix = pd.crosstab(df['guessedLang'], df['lang'], rownames=['Our guess'], colnames=['Twitter'])\n",
        "\n",
        "fig = ff.create_annotated_heatmap(conf_matrix.to_numpy(), x=conf_matrix.columns.array, y=conf_matrix.index.array, showscale=True)\n",
        "fig.update_xaxes(title_text='Twitter')\n",
        "fig.update_yaxes(title_text='Our guess')\n",
        "fig.show()"
      ]
    },
    {
      "cell_type": "code",
      "execution_count": null,
      "metadata": {},
      "outputs": [],
      "source": [
        "df.describe()"
      ]
    },
    {
      "cell_type": "code",
      "execution_count": null,
      "metadata": {},
      "outputs": [],
      "source": [
        "df.info()\n",
        "#df.memory_usage()"
      ]
    },
    {
      "cell_type": "code",
      "execution_count": null,
      "metadata": {},
      "outputs": [],
      "source": [
        "import geopandas\n",
        "# convert pandas dataframe to GeoPandas dataframe\n",
        "aux = df[df[\"coordinates\"].notna()]\n",
        "aux[\"coordinates\"] = aux[\"coordinates\"].apply(lambda c: \"POINT (\" + c[c.find(\"=\")+1:c.find(\",\")]+ \" \" + c[c.find(\"=\", c.find(\"=\")+1)+1:])\n",
        "\n",
        "aux['coordinates'] = geopandas.GeoSeries.from_wkt(aux['coordinates'])\n",
        "gdf = geopandas.GeoDataFrame(aux, geometry='coordinates')\n",
        "\n",
        "# load world map\n",
        "world = geopandas.read_file(geopandas.datasets.get_path('naturalearth_lowres'))\n"
      ]
    },
    {
      "cell_type": "code",
      "execution_count": null,
      "metadata": {},
      "outputs": [],
      "source": [
        "ax = world.plot(color='white', edgecolor='black', figsize=(12,8))\n",
        "\n",
        "gdf.plot(ax=ax)"
      ]
    },
    {
      "cell_type": "code",
      "execution_count": null,
      "metadata": {},
      "outputs": [],
      "source": [
        "import folium\n",
        "from folium import plugins\n",
        "\n",
        "map = folium.Map(location = [15,30], tiles='Cartodb dark_matter', zoom_start = 2)\n",
        "\n",
        "heat_data = [[point.xy[1][0], point.xy[0][0]] for point in gdf.geometry ]\n",
        "\n",
        "heat_data\n",
        "plugins.HeatMap(heat_data).add_to(map)\n",
        "\n",
        "map"
      ]
    },
    {
      "cell_type": "code",
      "execution_count": null,
      "metadata": {},
      "outputs": [],
      "source": [
        "import matplotlib.pyplot as plt\n",
        "fig, ax = plt.subplots(figsize=(20,8))\n",
        "world.plot(ax=ax, alpha=0.4, color='grey')\n",
        "gdf.plot(column='sentiment', ax=ax, legend=True)"
      ]
    },
    {
      "cell_type": "code",
      "execution_count": null,
      "metadata": {},
      "outputs": [],
      "source": [
        "# The dataframe_sql library lets you query pandas DataFrames\n",
        "# using SQL syntax. Unlike other libraries, dataframe_sql\n",
        "# performs native pandas operations instead of using a\n",
        "# database like SQLite as backend.\n",
        "# \n",
        "# Learn more at: https://github.com/zbrookle/dataframe_sql\n",
        "\n",
        "from dataframe_sql import register_temp_table, query\n",
        "\n",
        "# We will use the table name \"dataframe\"\n",
        "# to refer to our dataframe\n",
        "register_temp_table(df, \"dataframe\")"
      ]
    },
    {
      "cell_type": "code",
      "execution_count": null,
      "metadata": {},
      "outputs": [],
      "source": [
        "# Query top 10 tweets written in Catalan with the most retweets\n",
        "query(\"\"\"SELECT user,content,retweetCount\n",
        "             FROM dataframe\n",
        "             WHERE lang = 'ca'\n",
        "             ORDER BY retweetCount DESC\n",
        "             LIMIT 10\"\"\")"
      ]
    },
    {
      "cell_type": "code",
      "execution_count": null,
      "metadata": {},
      "outputs": [],
      "source": [
        "# Count all tweets written in Italian\n",
        "query(\"\"\"SELECT COUNT(*) AS tweets_it\n",
        "             FROM dataframe\n",
        "             WHERE lang = 'it'\"\"\")"
      ]
    },
    {
      "cell_type": "code",
      "execution_count": null,
      "metadata": {},
      "outputs": [],
      "source": [
        "# Get the top 10 tweets with the most likes\n",
        "query(\"\"\"SELECT *\n",
        "             FROM dataframe\n",
        "             ORDER BY likeCount DESC\n",
        "             LIMIT 10\"\"\")"
      ]
    },
    {
      "cell_type": "code",
      "execution_count": null,
      "metadata": {},
      "outputs": [],
      "source": [
        "# Get the overall sentiment of tweets by the user \"EU_H2020\"\n",
        "query(\"\"\"SELECT AVG(sentiment) AS avg_sentiment\n",
        "             FROM dataframe\n",
        "             WHERE user = 'EU_H2020'\"\"\")"
      ]
    },
    {
      "cell_type": "code",
      "execution_count": null,
      "metadata": {},
      "outputs": [],
      "source": [
        "# Get tweets by @cloudbutton2020\n",
        "query(\"\"\"SELECT *\n",
        "             FROM dataframe\n",
        "             WHERE user = 'cloudbutton2020'\"\"\")"
      ]
    },
    {
      "cell_type": "code",
      "execution_count": null,
      "metadata": {},
      "outputs": [],
      "source": []
    }
  ]
}