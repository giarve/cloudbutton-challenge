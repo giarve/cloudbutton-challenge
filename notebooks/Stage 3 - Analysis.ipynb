{
  "nbformat": 4,
  "nbformat_minor": 0,
  "metadata": {
    "colab": {
      "name": "Cloudbutton.ipynb",
      "provenance": [],
      "collapsed_sections": []
    },
    "kernelspec": {
      "name": "python395jvsc74a57bd08a12c58a8b58ac8253dff9b35a44630ba46221fc60666ce38f2b740db2da3db5",
      "display_name": "Python 3.9.5 64-bit"
    },
    "language_info": {
      "name": "python",
      "version": "3.9.5"
    },
    "metadata": {
      "interpreter": {
        "hash": "8a12c58a8b58ac8253dff9b35a44630ba46221fc60666ce38f2b740db2da3db5"
      }
    }
  },
  "cells": [
    {
      "source": [
        "Stage 3: Python  notebook: Demonstrate simple queries in Python notebooks over your data. In particular, apply sentiment analysis to data in different dates and periods and generate simple plots. Enable search queries over the data."
      ],
      "cell_type": "markdown",
      "metadata": {}
    },
    {
      "cell_type": "code",
      "execution_count": null,
      "metadata": {},
      "outputs": [],
      "source": [
        "import lithops\n",
        "\n",
        "analysis_folder_name = ''\n",
        "\n",
        "# Retrieve analysis_folder from Stage 1 notebook\n",
        "%store -r analysis_folder_name\n",
        "\n",
        "if len(analysis_folder_name) == 0:\n",
        "    print('You have not defined any folder yet (use Stage 1 notebook or the \\'analysis_folder\\' variable directly)')\n",
        "else:\n",
        "    bucket_name = lithops.Storage().bucket\n",
        "    data = lithops.Storage().get_object(bucket_name, analysis_folder_name+'.csv', stream=True)"
      ]
    },
    {
      "cell_type": "code",
      "execution_count": null,
      "metadata": {},
      "outputs": [],
      "source": [
        "import numpy as np\n",
        "import pandas as pd\n",
        "\n",
        "pd.set_option(\"display.precision\", 2)\n",
        "df = pd.read_csv(data, parse_dates=['date'])"
      ]
    },
    {
      "cell_type": "code",
      "execution_count": null,
      "metadata": {},
      "outputs": [],
      "source": [
        "import calplot\n",
        "\n",
        "calplot.calplot(pd.Series(np.random.randn(len(df.index)), index=df['date']), cmap='YlGn', colorbar=False)"
      ]
    },
    {
      "cell_type": "code",
      "execution_count": null,
      "metadata": {},
      "outputs": [],
      "source": [
        "import plotly.graph_objects as go\n",
        "\n",
        "df['date_day'] = df['date'].dt.date\n",
        "grouped = df.groupby('date_day')['sentiment'].value_counts()\n",
        "\n",
        "x_axis = grouped.index.levels[0]\n",
        "fig = go.Figure()\n",
        "\n",
        "for n_stars in grouped.index.levels[1]:\n",
        "    arr = []\n",
        "    for day in grouped.index.levels[0]:\n",
        "        arr.append(grouped.get(day).get(n_stars, default=0))\n",
        "    fig.add_trace(go.Bar(x=x_axis, y=arr, name=n_stars))\n",
        "\n",
        "fig.update_layout(barmode='stack')\n",
        "fig.update_yaxes(type=\"log\")\n",
        "fig.show()"
      ]
    },
    {
      "cell_type": "code",
      "execution_count": null,
      "metadata": {},
      "outputs": [],
      "source": [
        "df = pd.read_csv('test.csv')\n",
        "df.head()"
      ]
    },
    {
      "cell_type": "code",
      "execution_count": null,
      "metadata": {},
      "outputs": [],
      "source": [
        "df.describe()"
      ]
    },
    {
      "cell_type": "code",
      "execution_count": null,
      "metadata": {},
      "outputs": [],
      "source": [
        "df.info()\n",
        "#df.memory_usage()"
      ]
    },
    {
      "cell_type": "code",
      "execution_count": null,
      "metadata": {},
      "outputs": [],
      "source": [
        "# https://github.com/lithops-cloud/lithops/blob/master/docs/file_chunking.md\n",
        "\n",
        "# TODO: Search queries over the date with SQL???  using a library\n",
        "\n",
        "# date, geographic location, url, and sentiment analysis at least\n",
        "\n",
        "# https://python-visualization.github.io/folium/quickstart.html#Getting-Started\n",
        "\n",
        "# https://altair-viz.github.io/gallery/index.html#case-studies\n",
        "\n",
        "# https://plotly.com/python/\n",
        "\n",
        "# https://seaborn.pydata.org/examples/index.html"
      ]
    },
    {
      "cell_type": "code",
      "execution_count": null,
      "metadata": {},
      "outputs": [],
      "source": [
        "import dash\n",
        "import dash_core_components as dcc\n",
        "import dash_html_components as html\n",
        "from dash.dependencies import Input, Output\n",
        "import plotly.express as px\n",
        "\n",
        "# This dataframe has 244 lines, but 4 distinct values for `day`\n",
        "df = px.data.tips()\n",
        "\n",
        "app = dash.Dash(__name__)\n",
        "\n",
        "app.layout = html.Div([\n",
        "    html.P(\"Names:\"),\n",
        "    dcc.Dropdown(\n",
        "        id='names', \n",
        "        value='day', \n",
        "        options=[{'value': x, 'label': x} \n",
        "                 for x in ['smoker', 'day', 'time', 'sex']],\n",
        "        clearable=False\n",
        "    ),\n",
        "    html.P(\"Values:\"),\n",
        "    dcc.Dropdown(\n",
        "        id='values', \n",
        "        value='total_bill', \n",
        "        options=[{'value': x, 'label': x} \n",
        "                 for x in ['total_bill', 'tip', 'size']],\n",
        "        clearable=False\n",
        "    ),\n",
        "    dcc.Graph(id=\"pie-chart\"),\n",
        "])\n",
        "\n",
        "@app.callback(\n",
        "    Output(\"pie-chart\", \"figure\"), \n",
        "    [Input(\"names\", \"value\"), \n",
        "     Input(\"values\", \"value\")])\n",
        "def generate_chart(names, values):\n",
        "    fig = px.pie(df, values=values, names=names)\n",
        "    return fig\n",
        "\n",
        "app.run_server(debug=True, use_reloader=False)"
      ]
    },
    {
      "cell_type": "code",
      "execution_count": null,
      "metadata": {},
      "outputs": [],
      "source": [
        "# TODO: Ideas\n",
        "\n",
        "# https://dash-gallery.plotly.host/named-entity-recognition/ # DO THIS WITH TRANSFORMERS\n",
        "\n",
        "\n",
        "# https://dash-gallery.plotly.host/dash-interest-rate/\n",
        "# https://dash-gallery.plotly.host/Portal/\n",
        "\n",
        "\n",
        "# https://plotly.com/python/plotly-express/\n",
        "\n",
        "# https://plotly.com/python/basic-charts/\n",
        "\n",
        "# https://dash.plotly.com/datatable/filtering\n",
        "# https://dash.plotly.com/datatable/interactivity"
      ]
    },
    {
      "cell_type": "code",
      "execution_count": null,
      "metadata": {},
      "outputs": [],
      "source": [
        "import dash\n",
        "from dash.dependencies import Input, Output\n",
        "import dash_table\n",
        "import dash_core_components as dcc\n",
        "import dash_html_components as html\n",
        "import pandas as pd\n",
        "\n",
        "df = pd.read_csv('https://raw.githubusercontent.com/plotly/datasets/master/gapminder2007.csv')\n",
        "\n",
        "app = dash.Dash(__name__)\n",
        "\n",
        "app.layout = html.Div([\n",
        "    dash_table.DataTable(\n",
        "        id='datatable-interactivity',\n",
        "        columns=[\n",
        "            {\"name\": i, \"id\": i, \"deletable\": True, \"selectable\": True} for i in df.columns\n",
        "        ],\n",
        "        data=df.to_dict('records'),\n",
        "        editable=True,\n",
        "        filter_action=\"native\",\n",
        "        sort_action=\"native\",\n",
        "        sort_mode=\"multi\",\n",
        "        column_selectable=\"single\",\n",
        "        row_selectable=\"multi\",\n",
        "        row_deletable=True,\n",
        "        selected_columns=[],\n",
        "        selected_rows=[],\n",
        "        page_action=\"native\",\n",
        "        page_current= 0,\n",
        "        page_size= 10,\n",
        "    ),\n",
        "    html.Div(id='datatable-interactivity-container')\n",
        "])\n",
        "\n",
        "@app.callback(\n",
        "    Output('datatable-interactivity', 'style_data_conditional'),\n",
        "    Input('datatable-interactivity', 'selected_columns')\n",
        ")\n",
        "def update_styles(selected_columns):\n",
        "    return [{\n",
        "        'if': { 'column_id': i },\n",
        "        'background_color': '#D2F3FF'\n",
        "    } for i in selected_columns]\n",
        "\n",
        "@app.callback(\n",
        "    Output('datatable-interactivity-container', \"children\"),\n",
        "    Input('datatable-interactivity', \"derived_virtual_data\"),\n",
        "    Input('datatable-interactivity', \"derived_virtual_selected_rows\"))\n",
        "def update_graphs(rows, derived_virtual_selected_rows):\n",
        "    # When the table is first rendered, `derived_virtual_data` and\n",
        "    # `derived_virtual_selected_rows` will be `None`. This is due to an\n",
        "    # idiosyncrasy in Dash (unsupplied properties are always None and Dash\n",
        "    # calls the dependent callbacks when the component is first rendered).\n",
        "    # So, if `rows` is `None`, then the component was just rendered\n",
        "    # and its value will be the same as the component's dataframe.\n",
        "    # Instead of setting `None` in here, you could also set\n",
        "    # `derived_virtual_data=df.to_rows('dict')` when you initialize\n",
        "    # the component.\n",
        "    if derived_virtual_selected_rows is None:\n",
        "        derived_virtual_selected_rows = []\n",
        "\n",
        "    dff = df if rows is None else pd.DataFrame(rows)\n",
        "\n",
        "    colors = ['#7FDBFF' if i in derived_virtual_selected_rows else '#0074D9'\n",
        "              for i in range(len(dff))]\n",
        "\n",
        "    return [\n",
        "        dcc.Graph(\n",
        "            id=column,\n",
        "            figure={\n",
        "                \"data\": [\n",
        "                    {\n",
        "                        \"x\": dff[\"country\"],\n",
        "                        \"y\": dff[column],\n",
        "                        \"type\": \"bar\",\n",
        "                        \"marker\": {\"color\": colors},\n",
        "                    }\n",
        "                ],\n",
        "                \"layout\": {\n",
        "                    \"xaxis\": {\"automargin\": True},\n",
        "                    \"yaxis\": {\n",
        "                        \"automargin\": True,\n",
        "                        \"title\": {\"text\": column}\n",
        "                    },\n",
        "                    \"height\": 250,\n",
        "                    \"margin\": {\"t\": 10, \"l\": 10, \"r\": 10},\n",
        "                },\n",
        "            },\n",
        "        )\n",
        "        # check if column exists - user may have deleted it\n",
        "        # If `column.deletable=False`, then you don't\n",
        "        # need to do this check.\n",
        "        for column in [\"pop\", \"lifeExp\", \"gdpPercap\"] if column in dff\n",
        "    ]\n",
        "\n",
        "\n",
        "app.run_server(debug=True, use_reloader=False)"
      ]
    },
    {
      "cell_type": "code",
      "execution_count": null,
      "metadata": {},
      "outputs": [],
      "source": [
        "import plotly.express as px\n",
        "import numpy as np\n",
        "df = px.data.gapminder().query(\"year == 2007\")\n",
        "fig = px.treemap(df, path=[px.Constant('world'), 'continent', 'country'], values='pop',\n",
        "                  color='lifeExp', hover_data=['iso_alpha'])\n",
        "fig.show()"
      ]
    },
    {
      "cell_type": "code",
      "execution_count": null,
      "metadata": {},
      "outputs": [],
      "source": [
        "import plotly.express as px\n",
        "df = px.data.gapminder()\n",
        "fig = px.choropleth(df, locations=\"iso_alpha\", color=\"lifeExp\", hover_name=\"country\", animation_frame=\"year\", range_color=[20,80])\n",
        "fig.show()\n"
      ]
    },
    {
      "cell_type": "code",
      "execution_count": null,
      "metadata": {},
      "outputs": [],
      "source": [
        "import plotly.express as px\n",
        "df = px.data.wind()\n",
        "fig = px.bar_polar(df, r=\"frequency\", theta=\"direction\", color=\"strength\", template=\"plotly_dark\",\n",
        "            color_discrete_sequence= px.colors.sequential.Plasma_r)\n",
        "fig.show()\n"
      ]
    },
    {
      "cell_type": "code",
      "execution_count": null,
      "metadata": {},
      "outputs": [],
      "source": []
    }
  ]
}