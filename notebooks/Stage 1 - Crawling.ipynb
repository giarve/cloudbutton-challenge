{
 "cells": [
  {
   "cell_type": "markdown",
   "metadata": {},
   "source": [
    "Stage 1: Data crawler. Massively parallel functions crawling data and storing it in Cloud Object Storage.  Obtain information from web pages or tweets and create a dataset of text data. Use FaaS backend in lithops to launch crawling process over serverless functions."
   ]
  },
  {
   "cell_type": "code",
   "execution_count": null,
   "metadata": {},
   "outputs": [],
   "source": [
    "import ipywidgets as widgets\n",
    "\n",
    "analysis_folder_wg = widgets.Text(value='analysis1', placeholder='')\n",
    "items = [widgets.Text(placeholder='String/hashtag #{}'.format(i)) for i in range(6)]\n",
    "\n",
    "acc = widgets.Accordion(children=[analysis_folder_wg, widgets.HBox(items)])\n",
    "acc.set_title(0, 'Folder name in storage to save data')\n",
    "acc.set_title(1, 'Tags to crawl')\n",
    "acc\n"
   ]
  },
  {
   "cell_type": "code",
   "execution_count": null,
   "metadata": {},
   "outputs": [],
   "source": [
    "# You can add more hashtags if the don't fit the boxes manually here:\n",
    "hashtags = []\n",
    "for i in items:\n",
    "    if i.value != '':\n",
    "        hashtags.append(i.value)\n",
    "\n",
    "\n",
    "analysis_folder_name = analysis_folder_wg.value\n",
    "\n",
    "print('Hashtags:', hashtags)\n",
    "print('Folder:',  analysis_folder)\n",
    "\n",
    "# Save them on jupyter kernel so we can retrieve the hashtags on Stage 2 notebook\n",
    "%store analysis_folder_name"
   ]
  },
  {
   "cell_type": "code",
   "execution_count": null,
   "metadata": {},
   "outputs": [],
   "source": [
    "from custom_snscrape import TwitterSearchScraper\n",
    "\n",
    "def scrapSearch(str_to_search, storage):\n",
    "\n",
    "    tweets = \"\"\n",
    "    counter = 0\n",
    "\n",
    "    for tweet in TwitterSearchScraper(str_to_search).get_items():\n",
    "        tweets = tweets + tweet.to_json() + '\\n'\n",
    "\n",
    "        counter = counter + 1\n",
    "        if counter == 1000:\n",
    "            break\n",
    "\n",
    "    print(str_to_search)\n",
    "    print('analysis', analysis_folder_name)\n",
    "    # 'key' is only the sought hashtag, without the excluded ones\n",
    "    storage.put_object(bucket=storage.bucket,\n",
    "                        key=analysis_folder_name+'/'+str_to_search.split()[0],\n",
    "                        body=tweets)\n",
    "\n",
    "    return \"OK\""
   ]
  },
  {
   "cell_type": "code",
   "execution_count": null,
   "metadata": {},
   "outputs": [],
   "source": [
    "# Each query will include the current hashtag,\n",
    "# and exclude the hashtags to the right of itself in the array.\n",
    "# This way, we can parallelise the searches, while also ensuring that\n",
    "# if a tweet contains multiple hashtags, one of the queries includes said tweet.\n",
    "# \n",
    "# In this case, the queries will be:\n",
    "# #covid -#sars -#coronavirus, #sars -#coronavirus, #coronavirus\n",
    "#hashtags = ['#covid', '#sars', '#coronavirus']\n",
    "queries = []\n",
    "\n",
    "for i in range(len(hashtags)):\n",
    "    queries.append(' -'.join(hashtags))\n",
    "    hashtags.pop(0)"
   ]
  },
  {
   "cell_type": "code",
   "execution_count": null,
   "metadata": {
    "id": "auDgTfW1NYg2",
    "scrolled": false
   },
   "outputs": [],
   "source": [
    "import lithops\n",
    "\n",
    "with lithops.FunctionExecutor() as fexec:\n",
    "    all_invocations = fexec.map(scrapSearch, queries)\n",
    "    print(fexec.get_result())"
   ]
  },
  {
   "cell_type": "code",
   "execution_count": null,
   "metadata": {},
   "outputs": [],
   "source": []
  }
 ],
 "metadata": {
  "colab": {
   "collapsed_sections": [],
   "name": "Cloudbutton.ipynb",
   "provenance": []
  },
  "kernelspec": {
   "name": "python3",
   "display_name": "Python 3.9.5 64-bit ('.venv')",
   "metadata": {
    "interpreter": {
     "hash": "a4ee58a8dbacfde43774fe6219f7a7b143c13dd0083bd1b680a28b57e0c7f2c5"
    }
   }
  },
  "language_info": {
   "codemirror_mode": {
    "name": "ipython",
    "version": 3
   },
   "file_extension": ".py",
   "mimetype": "text/x-python",
   "name": "python",
   "nbconvert_exporter": "python",
   "pygments_lexer": "ipython3",
   "version": "3.9.5"
  }
 },
 "nbformat": 4,
 "nbformat_minor": 1
}