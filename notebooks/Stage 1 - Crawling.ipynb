{
 "cells": [
  {
   "cell_type": "markdown",
   "metadata": {},
   "source": [
    "Stage 1: Data crawler. Massively parallel functions crawling data and storing it in Cloud Object Storage.  Obtain information from web pages or tweets and create a dataset of text data. Use FaaS backend in lithops to launch crawling process over serverless functions."
   ]
  },
  {
   "cell_type": "code",
   "execution_count": null,
   "metadata": {},
   "outputs": [],
   "source": [
    "import lithops\n",
    "import tweepy"
   ]
  },
  {
   "cell_type": "code",
   "execution_count": null,
   "metadata": {
    "id": "Or4LHs4b_Om1"
   },
   "outputs": [],
   "source": [
    "# Setup Tweepy\n",
    "\n",
    "consumer_key = 'Di54NuDYAcu4shbfv0y3wVNsS'\n",
    "consumer_secret = 'ZjcCYMH5F3ETgazfRWTxKGTPJmuZF1WLWmBi6CmJLD70aVml4E'\n",
    "access_token = '1388177437280948225-S5wQgJf4DeSTbW9ecnJLWbPK0d7eHH'\n",
    "access_token_secret = 'U9BJdEbgdNj5arA61aGPO62ayaGbQdvPxstR21NV0qP03'\n",
    "\n",
    "auth = tweepy.OAuthHandler(consumer_key, consumer_secret)\n",
    "auth.set_access_token(access_token, access_token_secret)\n",
    "\n",
    "api = tweepy.API(auth, wait_on_rate_limit=True, wait_on_rate_limit_notify=True)\n",
    "\n",
    "NUMBER_OF_ITEMS=8\n",
    "NAME_TO_ANALIZE='moderna'"
   ]
  },
  {
   "cell_type": "markdown",
   "metadata": {
    "id": "GwXSVKdAk3U4"
   },
   "source": []
  },
  {
   "cell_type": "code",
   "execution_count": null,
   "metadata": {
    "colab": {
     "base_uri": "https://localhost:8080/"
    },
    "id": "hkhltryIAmpG",
    "outputId": "efa9a1f0-4065-46a7-af1c-41ce45a69b6e"
   },
   "outputs": [],
   "source": [
    "public_tweets = api.retweets(1388184494235127814, 1)\n",
    "print(len(public_tweets))\n",
    "for tweet in public_tweets:\n",
    "    print(tweet)"
   ]
  },
  {
   "cell_type": "code",
   "execution_count": null,
   "metadata": {
    "id": "zS9MICQyfnWB"
   },
   "outputs": [],
   "source": [
    "\n",
    "storage = lithops.Storage()"
   ]
  },
  {
   "cell_type": "markdown",
   "metadata": {
    "id": "d5xkNh0YJp9D"
   },
   "source": [
    "Scrap/crawl into storage"
   ]
  },
  {
   "cell_type": "code",
   "execution_count": null,
   "metadata": {
    "id": "puVe2qkcCb6t"
   },
   "outputs": [],
   "source": [
    "def get_tweets_replies(tweet_username, target_tweet_id):\n",
    "  NUMBER_OF_ITEMS = 3\n",
    "\n",
    "  for tweet in tweepy.Cursor(api.search,q='to:'+tweet_username, result_type='mixed', sinceId=target_tweet_id, tweet_mode='extended',).items(NUMBER_OF_ITEMS):\n",
    "    print(tweet._json['full_text'])\n",
    "    if hasattr(tweet, 'in_reply_to_status_id_str'):\n",
    "        if (tweet.in_reply_to_status_id_str==target_tweet_id):\n",
    "            print(tweet._json)\n",
    "            storage.put_object(bucket='replies',\n",
    "                              key=tweet._json['id_str'],\n",
    "                              body=str(tweet._json))\n",
    "  "
   ]
  },
  {
   "cell_type": "code",
   "execution_count": null,
   "metadata": {
    "colab": {
     "base_uri": "https://localhost:8080/"
    },
    "id": "PBWDcuSVlkd9",
    "outputId": "31c4d86d-2405-4d25-de79-03439b9f5a9e"
   },
   "outputs": [],
   "source": [
    "def get_tweets_replies_v2(conversation_id):\n",
    "  cur = tweepy.Cursor(api.search, q='conversation_id='+str(conversation_id))\n",
    "  print(cur)\n",
    "  print(cur.items())\n",
    "  for tweet in cur.items():\n",
    "    print(tweet)\n",
    "\n",
    "get_tweets_replies_v2(1388184494235127814)"
   ]
  },
  {
   "cell_type": "code",
   "execution_count": null,
   "metadata": {},
   "outputs": [],
   "source": [
    "def get_general_tweets(name, prefix, storage):\n",
    "    for tweet in tweepy.Cursor(api.search,q=prefix+name,tweet_mode='extended',since='2020-01-01').items(NUMBER_OF_ITEMS): # Since the start of the pandemic\n",
    "        storage.put_object(name, tweet._json['id_str'], str(tweet._json))"
   ]
  },
  {
   "cell_type": "code",
   "execution_count": null,
   "metadata": {
    "id": "jXKQoSztkx8N"
   },
   "outputs": [],
   "source": [
    "# tweets_list = [[tweet.full_text, tweet.created_at, tweet.id_str, tweet.user.screen_name, tweet.coordinates, tweet.place, tweet.retweet_count, tweet.favorite_count, tweet.lang, tweet.source, tweet.in_reply_to_status_id_str, tweet.in_reply_to_user_id_str, tweet.is_quote_status] for tweet in tweets]"
   ]
  },
  {
   "cell_type": "code",
   "execution_count": null,
   "metadata": {
    "id": "auDgTfW1NYg2",
    "scrolled": false
   },
   "outputs": [],
   "source": [
    "with lithops.FunctionExecutor() as fexec:\n",
    "    fexec.call_async(get_general_tweets, (NAME_TO_ANALIZE, \"@\"))\n",
    "    fexec.wait()"
   ]
  },
  {
   "cell_type": "markdown",
   "metadata": {
    "id": "tKODudhkBnmv"
   },
   "source": [
    "Tweets: \n",
    "1) Pedro Sanchez\n",
    " https://twitter.com/sanchezcastejon/status/1388184494235127814 -- Jo evitaria estos que son repostes a altres tuits\n",
    " https://twitter.com/sanchezcastejon/status/1376241393396543492\n",
    " https://twitter.com/sanchezcastejon/status/1371013139987365888\n",
    "\n",
    "2)  Boris Johnson\n",
    "https://twitter.com/BorisJohnson/status/1391413912889921542\n",
    "https://twitter.com/BorisJohnson/status/1363552116133023744\n",
    "https://twitter.com/BorisJohnson/status/1354147835369959435\n",
    "\n",
    "3) Joe Biden\n",
    "https://twitter.com/JoeBiden/status/1386426190861197313\n",
    "https://twitter.com/POTUS/status/1373037818277167112\n",
    "https://twitter.com/POTUS/status/1384136220284915712\n",
    "https://twitter.com/POTUS/status/1368993395172139014\n",
    "\n",
    "4) Elon Musk\n",
    "https://twitter.com/elonmusk/status/1256240766600409088\n",
    "\n",
    "\n"
   ]
  }
 ],
 "metadata": {
  "colab": {
   "collapsed_sections": [],
   "name": "Cloudbutton.ipynb",
   "provenance": []
  },
  "kernelspec": {
   "display_name": "Python 3",
   "language": "python",
   "name": "python3"
  },
  "language_info": {
   "codemirror_mode": {
    "name": "ipython",
    "version": 3
   },
   "file_extension": ".py",
   "mimetype": "text/x-python",
   "name": "python",
   "nbconvert_exporter": "python",
   "pygments_lexer": "ipython3",
   "version": "3.8.10"
  }
 },
 "nbformat": 4,
 "nbformat_minor": 1
}
