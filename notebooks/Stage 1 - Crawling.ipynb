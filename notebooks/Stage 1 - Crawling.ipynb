{
 "cells": [
  {
   "cell_type": "markdown",
   "metadata": {},
   "source": [
    "Stage 1: Data crawler. Massively parallel functions crawling data and storing it in Cloud Object Storage.  Obtain information from web pages or tweets and create a dataset of text data. Use FaaS backend in lithops to launch crawling process over serverless functions."
   ]
  },
  {
   "cell_type": "code",
   "execution_count": null,
   "metadata": {},
   "outputs": [],
   "source": [
    "import lithops\n"
   ]
  },
  {
   "cell_type": "code",
   "execution_count": null,
   "metadata": {},
   "outputs": [],
   "source": [
    "from custom_snscrape.twitter import TwitterSearchScraper\n",
    "\n",
    "# TODO: Improve function names...\n",
    "# TODO: Read this https://github.com/lithops-cloud/lithops/blob/master/docs/api_storage.md\n",
    "# TODO: put_object vs put_cloudobject?\n",
    "\n",
    "def scrapSearch(str_to_search, storage):\n",
    "    for tweet in TwitterSearchScraper(str_to_search).get_items():\n",
    "\n",
    "        # key_prefix is only the included hashtag, without the excluded ones\n",
    "        key_prefix = str_to_search.split()[0]\n",
    "\n",
    "        storage.put_object(bucket='colab',\n",
    "                              key=key_prefix+'/'+str(tweet.id),\n",
    "                              body=tweet.to_json())\n",
    "        \n",
    "        break # testing: only 1 result\n",
    "\n",
    "    return \"OK\""
   ]
  },
  {
   "cell_type": "code",
   "execution_count": null,
   "metadata": {
    "id": "auDgTfW1NYg2",
    "scrolled": false
   },
   "outputs": [],
   "source": [
    "with lithops.FunctionExecutor() as fexec:\n",
    "    # Each query will include the current hashtag,\n",
    "    # and exclude the hashtags to the right of itself in the array.\n",
    "    # This way, we can parallelise the searches, while also ensuring that\n",
    "    # if a tweet contains multiple hashtags, one of the queries includes said tweet.\n",
    "    # \n",
    "    # In this case, the queries will be:\n",
    "    # #covid -#sars -#coronavirus, #sars -#coronavirus, #coronavirus\n",
    "    hashtags = ['#covid', '#sars', '#coronavirus'] # TODO: Use a jupyter widget (textbox perhaps?) to insert here the hashtags.\n",
    "    queries = []\n",
    "\n",
    "    for i in range(len(hashtags)):\n",
    "        queries.append(' -'.join(hashtags))\n",
    "        hashtags.pop(0)\n",
    "\n",
    "    all_invocations = fexec.map(scrapSearch, queries)\n",
    "    print(fexec.get_result())"
   ]
  },
  {
   "source": [
    "Tweets: \n",
    "1) Pedro Sanchez\n",
    " https://twitter.com/sanchezcastejon/status/1388184494235127814\n",
    " https://twitter.com/sanchezcastejon/status/1376241393396543492\n",
    " https://twitter.com/sanchezcastejon/status/1371013139987365888\n",
    "\n",
    "2)  Boris Johnson\n",
    "https://twitter.com/BorisJohnson/status/1391413912889921542\n",
    "https://twitter.com/BorisJohnson/status/1363552116133023744\n",
    "https://twitter.com/BorisJohnson/status/1354147835369959435\n",
    "\n",
    "3) Joe Biden\n",
    "https://twitter.com/JoeBiden/status/1386426190861197313\n",
    "https://twitter.com/POTUS/status/1373037818277167112\n",
    "https://twitter.com/POTUS/status/1384136220284915712\n",
    "https://twitter.com/POTUS/status/1368993395172139014\n",
    "\n",
    "4) Elon Musk\n",
    "https://twitter.com/elonmusk/status/1256240766600409088\n",
    "\n",
    "\n"
   ],
   "cell_type": "code",
   "metadata": {
    "id": "tKODudhkBnmv"
   },
   "execution_count": null,
   "outputs": []
  }
 ],
 "metadata": {
  "colab": {
   "collapsed_sections": [],
   "name": "Cloudbutton.ipynb",
   "provenance": []
  },
  "kernelspec": {
   "display_name": "Python 3",
   "language": "python",
   "name": "python3"
  },
  "language_info": {
   "codemirror_mode": {
    "name": "ipython",
    "version": 3
   },
   "file_extension": ".py",
   "mimetype": "text/x-python",
   "name": "python",
   "nbconvert_exporter": "python",
   "pygments_lexer": "ipython3",
   "version": "3.9.4"
  }
 },
 "nbformat": 4,
 "nbformat_minor": 1
}