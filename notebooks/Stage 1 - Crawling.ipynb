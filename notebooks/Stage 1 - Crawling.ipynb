{
 "cells": [
  {
   "cell_type": "markdown",
   "metadata": {},
   "source": [
    "Stage 1: Data crawler. Massively parallel functions crawling data and storing it in Cloud Object Storage.  Obtain information from web pages or tweets and create a dataset of text data. Use FaaS backend in lithops to launch crawling process over serverless functions."
   ]
  },
  {
   "cell_type": "code",
   "execution_count": null,
   "metadata": {},
   "outputs": [],
   "source": [
    "import lithops"
   ]
  },
  {
   "cell_type": "code",
   "execution_count": null,
   "metadata": {},
   "outputs": [],
   "source": [
    "from custom_snscrape.twitter import TwitterSearchScraper\n",
    "\n",
    "def scrapSearch(str_to_search, storage):\n",
    "    for tweet in TwitterSearchScraper(str_to_search).get_items():\n",
    "        # key_prefix is only the included hashtag, without the excluded ones\n",
    "        key_prefix = str_to_search.split()[0]\n",
    "\n",
    "        storage.put_object(bucket=storage.bucket,\n",
    "                              key=key_prefix+'/'+str(tweet.id),\n",
    "                              body=tweet.to_json())\n",
    "        \n",
    "        break # testing: only 1 result\n",
    "\n",
    "    return \"OK\""
   ]
  },
  {
   "cell_type": "code",
   "execution_count": null,
   "metadata": {},
   "outputs": [],
   "source": [
    "import ipywidgets as widgets\n",
    "items = [widgets.Text(placeholder='Hashtag #{}'.format(i)) for i in range(5)]\n",
    "widgets.HBox(items)"
   ]
  },
  {
   "cell_type": "code",
   "execution_count": null,
   "metadata": {},
   "outputs": [],
   "source": [
    "# You can add more hashtags if the don't fit the boxes manually here:\n",
    "hashtags = []\n",
    "for i in items:\n",
    "    if i.value != '':\n",
    "        hashtags.append(i.value)\n",
    "\n",
    "\n",
    "# Save them on jupyter kernel so we can retrieve the hashtags on Stage 2 notebook\n",
    "%store hashtags\n",
    "\n",
    "print(hashtags)"
   ]
  },
  {
   "cell_type": "code",
   "execution_count": null,
   "metadata": {},
   "outputs": [],
   "source": [
    "# Each query will include the current hashtag,\n",
    "# and exclude the hashtags to the right of itself in the array.\n",
    "# This way, we can parallelise the searches, while also ensuring that\n",
    "# if a tweet contains multiple hashtags, one of the queries includes said tweet.\n",
    "# \n",
    "# In this case, the queries will be:\n",
    "# #covid -#sars -#coronavirus, #sars -#coronavirus, #coronavirus\n",
    "#hashtags = ['#covid', '#sars', '#coronavirus']\n",
    "queries = []\n",
    "\n",
    "for i in range(len(hashtags)):\n",
    "    queries.append(' -'.join(hashtags))\n",
    "    hashtags.pop(0)"
   ]
  },
  {
   "cell_type": "code",
   "execution_count": null,
   "metadata": {
    "id": "auDgTfW1NYg2",
    "scrolled": false
   },
   "outputs": [],
   "source": [
    "with lithops.FunctionExecutor() as fexec:\n",
    "    all_invocations = fexec.map(scrapSearch, queries)\n",
    "    print(fexec.get_result())"
   ]
  },
  {
   "source": [
    "Tweets: \n",
    "1) Pedro Sanchez\n",
    " https://twitter.com/sanchezcastejon/status/1388184494235127814\n",
    " https://twitter.com/sanchezcastejon/status/1376241393396543492\n",
    " https://twitter.com/sanchezcastejon/status/1371013139987365888\n",
    "\n",
    "2)  Boris Johnson\n",
    "https://twitter.com/BorisJohnson/status/1391413912889921542\n",
    "https://twitter.com/BorisJohnson/status/1363552116133023744\n",
    "https://twitter.com/BorisJohnson/status/1354147835369959435\n",
    "\n",
    "3) Joe Biden\n",
    "https://twitter.com/JoeBiden/status/1386426190861197313\n",
    "https://twitter.com/POTUS/status/1373037818277167112\n",
    "https://twitter.com/POTUS/status/1384136220284915712\n",
    "https://twitter.com/POTUS/status/1368993395172139014\n",
    "\n",
    "4) Elon Musk\n",
    "https://twitter.com/elonmusk/status/1256240766600409088\n",
    "\n",
    "\n"
   ],
   "cell_type": "code",
   "metadata": {
    "id": "tKODudhkBnmv"
   },
   "execution_count": null,
   "outputs": []
  }
 ],
 "metadata": {
  "colab": {
   "collapsed_sections": [],
   "name": "Cloudbutton.ipynb",
   "provenance": []
  },
  "kernelspec": {
   "name": "python3",
   "display_name": "Python 3.9.4 64-bit ('.venv')",
   "metadata": {
    "interpreter": {
     "hash": "a4ee58a8dbacfde43774fe6219f7a7b143c13dd0083bd1b680a28b57e0c7f2c5"
    }
   }
  },
  "language_info": {
   "codemirror_mode": {
    "name": "ipython",
    "version": 3
   },
   "file_extension": ".py",
   "mimetype": "text/x-python",
   "name": "python",
   "nbconvert_exporter": "python",
   "pygments_lexer": "ipython3",
   "version": "3.9.4"
  }
 },
 "nbformat": 4,
 "nbformat_minor": 1
}