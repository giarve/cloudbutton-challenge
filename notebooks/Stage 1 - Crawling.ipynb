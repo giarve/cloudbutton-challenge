{
 "cells": [
  {
   "cell_type": "markdown",
   "metadata": {},
   "source": [
    "Stage 1: Data crawler. Massively parallel functions crawling data and storing it in Cloud Object Storage.  Obtain information from web pages or tweets and create a dataset of text data. Use FaaS backend in lithops to launch crawling process over serverless functions."
   ]
  },
  {
   "cell_type": "code",
   "execution_count": 101,
   "metadata": {},
   "outputs": [],
   "source": [
    "import lithops\n"
   ]
  },
  {
   "cell_type": "code",
   "execution_count": 102,
   "metadata": {},
   "outputs": [],
   "source": [
    "from custom_snscrape.twitter import TwitterSearchScraper\n",
    "\n",
    "# TODO: Improve function names...\n",
    "# TODO: Read this https://github.com/lithops-cloud/lithops/blob/master/docs/api_storage.md\n",
    "# TODO: put_object vs put_cloudobject?\n",
    "\n",
    "def scrapSearch(str_to_search, storage):\n",
    "    for tweet in TwitterSearchScraper(str_to_search).get_items():\n",
    "        print(str_to_search)\n",
    "        # key_prefix is only the included hashtag, without the excluded ones\n",
    "        key_prefix = str_to_search.split()[0]\n",
    "\n",
    "        bucket = storage.storage_config['bucket']\n",
    "        storage.put_object(bucket=bucket,\n",
    "                              key=key_prefix+'/'+str(tweet.id),\n",
    "                              body=tweet.to_json())\n",
    "        \n",
    "        break # testing: only 1 result\n",
    "\n",
    "    return \"OK\""
   ]
  },
  {
   "cell_type": "code",
   "execution_count": 112,
   "metadata": {},
   "outputs": [
    {
     "output_type": "display_data",
     "data": {
      "text/plain": "HBox(children=(Text(value='', placeholder='Hastag #0'), Text(value='', placeholder='Hastag #1'), Text(value=''…",
      "application/vnd.jupyter.widget-view+json": {
       "version_major": 2,
       "version_minor": 0,
       "model_id": "718813395db740998a69d97a212cd19d"
      }
     },
     "metadata": {}
    }
   ],
   "source": [
    "import ipywidgets as widgets\n",
    "items = [widgets.Text(placeholder='Hastag #{}'.format(i)) for i in range(5)]\n",
    "widgets.HBox(items)"
   ]
  },
  {
   "cell_type": "code",
   "execution_count": 113,
   "metadata": {
    "id": "auDgTfW1NYg2",
    "scrolled": false
   },
   "outputs": [
    {
     "output_type": "stream",
     "name": "stderr",
     "text": [
      "2021-05-24 18:25:13,041 [INFO] lithops.config -- Lithops v2.3.3\n",
      "2021-05-24 18:25:13,044 [INFO] lithops.storage.backends.localhost.localhost -- Localhost Storage client created\n",
      "2021-05-24 18:25:13,045 [INFO] lithops.localhost.localhost -- Localhost compute client created\n",
      "2021-05-24 18:25:13,046 [INFO] lithops.executors -- Localhost Executor created with ID: bc95cb-28\n",
      "2021-05-24 18:25:13,049 [INFO] lithops.invokers -- ExecutorID bc95cb-28 | JobID M000 - Selected Runtime: python.exe \n",
      "2021-05-24 18:25:13,078 [INFO] lithops.job.job -- ExecutorID bc95cb-28 | JobID M000 - Uploading function and data - Total: 45.0KiB\n",
      "2021-05-24 18:25:13,085 [INFO] lithops.invokers -- ExecutorID bc95cb-28 | JobID M000 - Starting function invocation: scrapSearch() - Total: 5 activations\n",
      "2021-05-24 18:25:13,093 [INFO] lithops.invokers -- ExecutorID bc95cb-28 | JobID M000 - View execution logs at C:\\Users\\jordi\\AppData\\Local\\Temp\\lithops\\logs\\bc95cb-28-M000.log\n",
      "2021-05-24 18:25:13,100 [INFO] lithops.wait -- ExecutorID bc95cb-28 - Getting results from functions\n",
      "['kdflasf', 'joiroeda', 'vvcx', 'fdsa', '31']\n",
      "2021-05-24 18:25:20,166 [INFO] lithops.executors -- ExecutorID bc95cb-28 - Cleaning temporary data\n",
      "['OK', 'OK', 'OK', 'OK', 'OK']\n"
     ]
    }
   ],
   "source": [
    "with lithops.FunctionExecutor() as fexec:\n",
    "    # Each query will include the current hashtag,\n",
    "    # and exclude the hashtags to the right of itself in the array.\n",
    "    # This way, we can parallelise the searches, while also ensuring that\n",
    "    # if a tweet contains multiple hashtags, one of the queries includes said tweet.\n",
    "    # \n",
    "    # In this case, the queries will be:\n",
    "    # #covid -#sars -#coronavirus, #sars -#coronavirus, #coronavirus\n",
    "    #hashtags = ['#covid', '#sars', '#coronavirus'] # TODO: Use a jupyter widget (textbox perhaps?) to insert here the hashtags.\n",
    "\n",
    "    hashtags = []\n",
    "    for i in items:\n",
    "        if i.value != '':\n",
    "            hashtags.append(i.value)\n",
    "\n",
    "    queries = []\n",
    "\n",
    "    for i in range(len(hashtags)):\n",
    "        queries.append(' -'.join(hashtags))\n",
    "        hashtags.pop(0)\n",
    "\n",
    "    all_invocations = fexec.map(scrapSearch, queries)\n",
    "    print(fexec.get_result())"
   ]
  },
  {
   "source": [
    "Tweets: \n",
    "1) Pedro Sanchez\n",
    " https://twitter.com/sanchezcastejon/status/1388184494235127814\n",
    " https://twitter.com/sanchezcastejon/status/1376241393396543492\n",
    " https://twitter.com/sanchezcastejon/status/1371013139987365888\n",
    "\n",
    "2)  Boris Johnson\n",
    "https://twitter.com/BorisJohnson/status/1391413912889921542\n",
    "https://twitter.com/BorisJohnson/status/1363552116133023744\n",
    "https://twitter.com/BorisJohnson/status/1354147835369959435\n",
    "\n",
    "3) Joe Biden\n",
    "https://twitter.com/JoeBiden/status/1386426190861197313\n",
    "https://twitter.com/POTUS/status/1373037818277167112\n",
    "https://twitter.com/POTUS/status/1384136220284915712\n",
    "https://twitter.com/POTUS/status/1368993395172139014\n",
    "\n",
    "4) Elon Musk\n",
    "https://twitter.com/elonmusk/status/1256240766600409088\n",
    "\n",
    "\n"
   ],
   "cell_type": "code",
   "metadata": {
    "id": "tKODudhkBnmv"
   },
   "execution_count": 105,
   "outputs": [
    {
     "output_type": "error",
     "ename": "SyntaxError",
     "evalue": "invalid syntax (<ipython-input-105-0fbccafb20b4>, line 1)",
     "traceback": [
      "\u001b[1;36m  File \u001b[1;32m\"<ipython-input-105-0fbccafb20b4>\"\u001b[1;36m, line \u001b[1;32m1\u001b[0m\n\u001b[1;33m    Tweets:\u001b[0m\n\u001b[1;37m            ^\u001b[0m\n\u001b[1;31mSyntaxError\u001b[0m\u001b[1;31m:\u001b[0m invalid syntax\n"
     ]
    }
   ]
  }
 ],
 "metadata": {
  "colab": {
   "collapsed_sections": [],
   "name": "Cloudbutton.ipynb",
   "provenance": []
  },
  "kernelspec": {
   "name": "python395jvsc74a57bd00fea3860711d11a676a434767f0638ff5bfa64c2bb66d26fba12e7e1c208afc5",
   "display_name": "Python 3.9.5 64-bit"
  },
  "language_info": {
   "codemirror_mode": {
    "name": "ipython",
    "version": 3
   },
   "file_extension": ".py",
   "mimetype": "text/x-python",
   "name": "python",
   "nbconvert_exporter": "python",
   "pygments_lexer": "ipython3",
   "version": "3.9.5"
  }
 },
 "nbformat": 4,
 "nbformat_minor": 1
}