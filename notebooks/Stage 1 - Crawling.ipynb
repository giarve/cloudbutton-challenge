{
 "cells": [
  {
   "cell_type": "markdown",
   "metadata": {},
   "source": [
    "Stage 1: Data crawler. Massively parallel functions crawling data and storing it in Cloud Object Storage.  Obtain information from web pages or tweets and create a dataset of text data. Use FaaS backend in lithops to launch crawling process over serverless functions."
   ]
  },
  {
   "cell_type": "code",
   "execution_count": 12,
   "metadata": {},
   "outputs": [
    {
     "output_type": "display_data",
     "data": {
      "text/plain": "Accordion(children=(Text(value='analysis1', placeholder=''), HBox(children=(Text(value='', placeholder='String…",
      "application/vnd.jupyter.widget-view+json": {
       "version_major": 2,
       "version_minor": 0,
       "model_id": "28286815903d472891128eff2f490c8a"
      }
     },
     "metadata": {}
    }
   ],
   "source": [
    "import ipywidgets as widgets\n",
    "\n",
    "analysis_folder_wg = widgets.Text(value='analysis1', placeholder='')\n",
    "items = [widgets.Text(placeholder='String/hashtag #{}'.format(i)) for i in range(6)]\n",
    "parameterItems = [widgets.Text(placeholder='parameter:value #{}'.format(i)) for i in range(3)]\n",
    "\n",
    "acc = widgets.Accordion(children=[analysis_folder_wg, widgets.HBox(items), widgets.HBox(parameterItems)])\n",
    "acc.set_title(0, 'Folder name in storage to save data')\n",
    "acc.set_title(1, 'Tags to crawl')\n",
    "acc.set_title(2, 'Parameters')\n",
    "acc\n"
   ]
  },
  {
   "cell_type": "code",
   "execution_count": 25,
   "metadata": {},
   "outputs": [
    {
     "output_type": "stream",
     "name": "stdout",
     "text": [
      "Hashtags: ['#covid', '#sars', '#covid']\nParameters: ['near:Tarrragona', 'since:2020-02-01']\nFolder: test\nStored 'analysis_folder_name' (str)\n"
     ]
    }
   ],
   "source": [
    "# You can add more hashtags if the don't fit the boxes manually here:\n",
    "hashtags = []\n",
    "parameters = []\n",
    "for i in items:\n",
    "    if i.value != '':\n",
    "        hashtags.append(i.value)\n",
    "for i in parameterItems:\n",
    "    if i.value != '':\n",
    "        parameters.append(i.value)\n",
    "\n",
    "analysis_folder_name = analysis_folder_wg.value\n",
    "\n",
    "print('Hashtags:', hashtags)\n",
    "print('Parameters:',  parameters)\n",
    "print('Folder:',  analysis_folder_name)\n",
    "\n",
    "# Save them on jupyter kernel so we can retrieve the hashtags on Stage 2 notebook\n",
    "%store analysis_folder_name"
   ]
  },
  {
   "cell_type": "code",
   "execution_count": 26,
   "metadata": {},
   "outputs": [],
   "source": [
    "from custom_snscrape import TwitterSearchScraper\n",
    "\n",
    "def scrapSearch(str_to_search, storage):\n",
    "\n",
    "    tweets = \"\"\n",
    "    counter = 0\n",
    "\n",
    "    for tweet in TwitterSearchScraper(str_to_search).get_items():\n",
    "        tweets = tweets + tweet.to_json() + '\\n'\n",
    "\n",
    "        counter = counter + 1\n",
    "        if counter == 8000:\n",
    "            break\n",
    "\n",
    "    # 'key' is only the sought hashtag, without the excluded ones\n",
    "    storage.put_object(bucket=storage.bucket,\n",
    "                        key=analysis_folder_name+'/'+str_to_search.split()[0],\n",
    "                        body=tweets)\n",
    "\n",
    "    return \"OK\""
   ]
  },
  {
   "cell_type": "code",
   "execution_count": 27,
   "metadata": {},
   "outputs": [
    {
     "output_type": "stream",
     "name": "stdout",
     "text": [
      "['#covid -#sars -#covid near:Tarrragona since:2020-02-01', '#sars -#covid near:Tarrragona since:2020-02-01', '#covid near:Tarrragona since:2020-02-01']\n"
     ]
    }
   ],
   "source": [
    "# Each query will include the current hashtag,\n",
    "# and exclude the hashtags to the right of itself in the array.\n",
    "# This way, we can parallelise the searches, while also ensuring that\n",
    "# if a tweet contains multiple hashtags, one of the queries includes said tweet.\n",
    "# \n",
    "# In this case, the queries will be:\n",
    "# #covid -#sars -#coronavirus, #sars -#coronavirus, #coronavirus\n",
    "#hashtags = ['#covid', '#sars', '#coronavirus']\n",
    "queries = []\n",
    "\n",
    "for i in range(len(hashtags)):\n",
    "    s = ' -'.join(hashtags)\n",
    "    for p in parameters:\n",
    "        s += \" \" + p\n",
    "    queries.append(s)\n",
    "    hashtags.pop(0)\n",
    "print(queries)"
   ]
  },
  {
   "cell_type": "code",
   "execution_count": 28,
   "metadata": {
    "id": "auDgTfW1NYg2",
    "scrolled": false
   },
   "outputs": [
    {
     "output_type": "stream",
     "name": "stderr",
     "text": [
      "2021-06-10 19:27:27,200 [INFO] lithops.config -- Lithops v2.3.3\n",
      "2021-06-10 19:27:27,200 [DEBUG] lithops.config -- Loading configuration from d:\\OneDrive - URV\\3r\\Sistemes Distribuits\\cloudbutton-challenge\\notebooks\\.lithops_config\n",
      "2021-06-10 19:27:27,208 [DEBUG] lithops.config -- Loading Serverless backend module: ibm_cf\n",
      "2021-06-10 19:27:27,208 [DEBUG] lithops.config -- Loading Storage backend module: ibm_cos\n",
      "2021-06-10 19:27:27,216 [DEBUG] lithops.storage.backends.ibm_cos.ibm_cos -- Creating IBM COS client\n",
      "2021-06-10 19:27:27,216 [DEBUG] lithops.storage.backends.ibm_cos.ibm_cos -- Set IBM COS Endpoint to https://s3.eu-de.cloud-object-storage.appdomain.cloud\n",
      "2021-06-10 19:27:27,216 [DEBUG] lithops.util.ibm_token_manager -- Using IBM COS API Key - Reusing Token from local cache\n",
      "2021-06-10 19:27:27,224 [DEBUG] lithops.util.ibm_token_manager -- Token expiry time: 2021-06-10 20:18:11.040310+02:00 - Minutes left: 50\n",
      "2021-06-10 19:27:27,232 [INFO] lithops.storage.backends.ibm_cos.ibm_cos -- IBM COS Storage client created - Region: eu-de\n",
      "2021-06-10 19:27:27,232 [DEBUG] lithops.serverless.backends.ibm_cf.ibm_cf -- Creating IBM Cloud Functions client\n",
      "2021-06-10 19:27:27,232 [DEBUG] lithops.serverless.backends.ibm_cf.ibm_cf -- Set IBM CF Namespace to Namespace-n4e-colab\n",
      "2021-06-10 19:27:27,240 [DEBUG] lithops.serverless.backends.ibm_cf.ibm_cf -- Set IBM CF Endpoint to https://eu-de.functions.cloud.ibm.com\n",
      "2021-06-10 19:27:27,240 [DEBUG] lithops.util.ibm_token_manager -- Using IBM IAM API Key - Reusing Token from local cache\n",
      "2021-06-10 19:27:27,240 [DEBUG] lithops.util.ibm_token_manager -- Token expiry time: 2021-06-10 19:38:14.027833+02:00 - Minutes left: 10\n",
      "2021-06-10 19:27:27,248 [DEBUG] lithops.util.ibm_token_manager -- Token expired. Requesting new token\n",
      "2021-06-10 19:27:28,648 [INFO] lithops.serverless.backends.ibm_cf.ibm_cf -- IBM CF client created - Region: eu-de - Namespace: Namespace-n4e-colab\n",
      "2021-06-10 19:27:28,656 [DEBUG] lithops.invokers -- ExecutorID ec16eb-4 - Total available workers: 1200\n",
      "2021-06-10 19:27:28,664 [DEBUG] lithops.invokers -- ExecutorID ec16eb-4 - Serverless invoker created\n",
      "2021-06-10 19:27:28,664 [INFO] lithops.executors -- Serverless Executor created with ID: ec16eb-4\n",
      "2021-06-10 19:27:28,672 [INFO] lithops.invokers -- ExecutorID ec16eb-4 | JobID M000 - Selected Runtime: lithopscloud/ibmcf-python-v39 - 256MB\n",
      "2021-06-10 19:27:28,696 [DEBUG] lithops.storage.storage -- Runtime metadata found in local cache\n",
      "2021-06-10 19:27:28,704 [DEBUG] lithops.job.job -- ExecutorID ec16eb-4 | JobID M000 - Serializing function and data\n",
      "2021-06-10 19:27:28,992 [DEBUG] lithops.job.serialize -- Referenced modules: d:\\OneDrive - URV\\3r\\Sistemes Distribuits\\cloudbutton-challenge\\notebooks\\custom_snscrape\\twitter.py\n",
      "2021-06-10 19:27:28,992 [DEBUG] lithops.job.serialize -- Modules to transmit: C:\\Users\\jordi\\AppData\\Local\\Programs\\Python\\Python39\\lib\\site-packages\\marshmallow, C:\\Users\\jordi\\AppData\\Local\\Programs\\Python\\Python39\\lib\\site-packages\\typing_extensions.py, C:\\Users\\jordi\\AppData\\Local\\Programs\\Python\\Python39\\lib\\site-packages\\typing_inspect.py, C:\\Users\\jordi\\AppData\\Local\\Programs\\Python\\Python39\\lib\\site-packages\\stringcase.py, d:\\OneDrive - URV\\3r\\Sistemes Distribuits\\cloudbutton-challenge\\notebooks\\custom_snscrape, C:\\Users\\jordi\\AppData\\Local\\Programs\\Python\\Python39\\lib\\site-packages\\mypy_extensions.py, C:\\Users\\jordi\\AppData\\Local\\Programs\\Python\\Python39\\lib\\site-packages\\marshmallow_enum, C:\\Users\\jordi\\AppData\\Local\\Programs\\Python\\Python39\\lib\\site-packages\\dataclasses_json\n",
      "2021-06-10 19:27:29,008 [INFO] lithops.job.job -- ExecutorID ec16eb-4 | JobID M000 - Uploading function and data - Total: 523.1KiB\n",
      "2021-06-10 19:27:29,466 [DEBUG] lithops.storage.backends.ibm_cos.ibm_cos -- PUT Object lithops.jobs/ec16eb-4-M000/aggdata.pickle - Size: 241.0B - OK\n",
      "2021-06-10 19:27:30,242 [DEBUG] lithops.storage.backends.ibm_cos.ibm_cos -- PUT Object lithops.jobs/ec16eb-4-M000/func.pickle - Size: 522.9KiB - OK\n",
      "2021-06-10 19:27:30,250 [INFO] lithops.invokers -- ExecutorID ec16eb-4 | JobID M000 - Starting function invocation: scrapSearch() - Total: 3 activations\n",
      "2021-06-10 19:27:30,258 [DEBUG] lithops.invokers -- ExecutorID ec16eb-4 | JobID M000 - Chunksize: 1 - Worker processes: 1\n",
      "2021-06-10 19:27:30,266 [DEBUG] lithops.invokers -- ExecutorID ec16eb-4 - Async invoker 0 started\n",
      "2021-06-10 19:27:30,282 [DEBUG] lithops.invokers -- ExecutorID ec16eb-4 - Async invoker 1 started\n",
      "2021-06-10 19:27:30,282 [DEBUG] lithops.invokers -- ExecutorID ec16eb-4 | JobID M000 - Free workers: 1200 - Going to run 3 activations in 3 workers\n",
      "2021-06-10 19:27:30,314 [INFO] lithops.invokers -- ExecutorID ec16eb-4 | JobID M000 - View execution logs at C:\\Users\\jordi\\AppData\\Local\\Temp\\lithops\\logs\\ec16eb-4-M000.log\n",
      "2021-06-10 19:27:30,322 [DEBUG] lithops.monitor -- ExecutorID ec16eb-4 | JobID M000 - Starting Storage job monitor\n",
      "2021-06-10 19:27:30,322 [INFO] lithops.wait -- ExecutorID ec16eb-4 - Getting results from functions\n",
      "2021-06-10 19:27:30,682 [DEBUG] lithops.invokers -- ExecutorID ec16eb-4 | JobID M000 - Calls 00000 invoked (0.376s) - Activation ID: 5bded891e43246cf9ed891e43236cf59\n",
      "2021-06-10 19:27:30,698 [DEBUG] lithops.invokers -- ExecutorID ec16eb-4 | JobID M000 - Calls 00002 invoked (0.384s) - Activation ID: 10b222b15c4a4296b222b15c4a329664\n",
      "2021-06-10 19:27:30,698 [DEBUG] lithops.invokers -- ExecutorID ec16eb-4 | JobID M000 - Calls 00001 invoked (0.384s) - Activation ID: f2980b71ed6d42f8980b71ed6d72f8c3\n",
      "2021-06-10 19:27:30,866 [DEBUG] lithops.monitor -- ExecutorID ec16eb-4 | JobID M000 - Pending: 3 - Running: 0 - Done: 0\n",
      "2021-06-10 19:27:33,074 [DEBUG] lithops.monitor -- ExecutorID ec16eb-4 | JobID M000 - Pending: 2 - Running: 1 - Done: 0\n",
      "2021-06-10 19:27:35,426 [DEBUG] lithops.monitor -- ExecutorID ec16eb-4 | JobID M000 - Pending: 0 - Running: 3 - Done: 0\n",
      "2021-06-10 19:27:37,714 [DEBUG] lithops.monitor -- ExecutorID ec16eb-4 | JobID M000 - Pending: 0 - Running: 3 - Done: 0\n",
      "2021-06-10 19:27:40,074 [DEBUG] lithops.monitor -- ExecutorID ec16eb-4 | JobID M000 - Pending: 0 - Running: 3 - Done: 0\n",
      "2021-06-10 19:27:42,410 [DEBUG] lithops.monitor -- ExecutorID ec16eb-4 | JobID M000 - Pending: 0 - Running: 2 - Done: 1\n",
      "2021-06-10 19:27:42,442 [DEBUG] lithops.invokers -- ExecutorID ec16eb-4 - Stopping async invokers\n",
      "2021-06-10 19:27:42,450 [DEBUG] lithops.invokers -- ExecutorID ec16eb-4 - Async invoker 1 finished\n",
      "2021-06-10 19:27:42,450 [DEBUG] lithops.invokers -- ExecutorID ec16eb-4 - Async invoker 0 finished\n"
     ]
    },
    {
     "output_type": "error",
     "ename": "ScraperException",
     "evalue": "4 requests to https://api.twitter.com/2/search/adaptive.json?include_profile_interstitial_type=1&include_blocking=1&include_blocked_by=1&include_followed_by=1&include_want_retweets=1&include_mute_edge=1&include_can_dm=1&include_can_media_tag=1&skip_status=1&cards_platform=Web-12&include_cards=1&include_ext_alt_text=true&include_quote_count=true&include_reply_count=1&tweet_mode=extended&include_entities=true&include_user_entities=true&include_ext_media_color=true&include_ext_media_availability=true&send_error_codes=true&simple_quoted_tweets=true&q=%23covid+-%23sars+-%23covid+near%3ATarrragona+since%3A2020-02-01&tweet_search_mode=live&count=100&query_source=spelling_expansion_revert_click&pc=1&spelling_corrections=1&ext=ext%3DmediaStats%252ChighlightedLabel failed, giving up.",
     "traceback": [
      "\u001b[1;31m---------------------------------------------------------------------------\u001b[0m",
      "\u001b[1;31mScraperException\u001b[0m                          Traceback (most recent call last)",
      "\u001b[1;32m<ipython-input-28-94ecdde98fc4>\u001b[0m in \u001b[0;36m<module>\u001b[1;34m\u001b[0m\n\u001b[0;32m      3\u001b[0m \u001b[1;32mwith\u001b[0m \u001b[0mlithops\u001b[0m\u001b[1;33m.\u001b[0m\u001b[0mFunctionExecutor\u001b[0m\u001b[1;33m(\u001b[0m\u001b[0mlog_level\u001b[0m\u001b[1;33m=\u001b[0m\u001b[1;34m'debug'\u001b[0m\u001b[1;33m)\u001b[0m \u001b[1;32mas\u001b[0m \u001b[0mfexec\u001b[0m\u001b[1;33m:\u001b[0m\u001b[1;33m\u001b[0m\u001b[1;33m\u001b[0m\u001b[0m\n\u001b[0;32m      4\u001b[0m     \u001b[0mall_invocations\u001b[0m \u001b[1;33m=\u001b[0m \u001b[0mfexec\u001b[0m\u001b[1;33m.\u001b[0m\u001b[0mmap\u001b[0m\u001b[1;33m(\u001b[0m\u001b[0mscrapSearch\u001b[0m\u001b[1;33m,\u001b[0m \u001b[0mqueries\u001b[0m\u001b[1;33m)\u001b[0m\u001b[1;33m\u001b[0m\u001b[1;33m\u001b[0m\u001b[0m\n\u001b[1;32m----> 5\u001b[1;33m     \u001b[0mprint\u001b[0m\u001b[1;33m(\u001b[0m\u001b[0mfexec\u001b[0m\u001b[1;33m.\u001b[0m\u001b[0mget_result\u001b[0m\u001b[1;33m(\u001b[0m\u001b[1;33m)\u001b[0m\u001b[1;33m)\u001b[0m\u001b[1;33m\u001b[0m\u001b[1;33m\u001b[0m\u001b[0m\n\u001b[0m",
      "\u001b[1;32m~\\AppData\\Local\\Programs\\Python\\Python39\\lib\\site-packages\\lithops\\executors.py\u001b[0m in \u001b[0;36mget_result\u001b[1;34m(self, fs, throw_except, timeout, threadpool_size, wait_dur_sec)\u001b[0m\n\u001b[0;32m    413\u001b[0m         \u001b[1;33m:\u001b[0m\u001b[1;32mreturn\u001b[0m\u001b[1;33m:\u001b[0m \u001b[0mThe\u001b[0m \u001b[0mresult\u001b[0m \u001b[0mof\u001b[0m \u001b[0mthe\u001b[0m \u001b[0mfuture\u001b[0m\u001b[1;33m/\u001b[0m\u001b[0ms\u001b[0m\u001b[1;33m\u001b[0m\u001b[1;33m\u001b[0m\u001b[0m\n\u001b[0;32m    414\u001b[0m         \"\"\"\n\u001b[1;32m--> 415\u001b[1;33m         fs_done, _ = self.wait(fs=fs, throw_except=throw_except,\n\u001b[0m\u001b[0;32m    416\u001b[0m                                \u001b[0mtimeout\u001b[0m\u001b[1;33m=\u001b[0m\u001b[0mtimeout\u001b[0m\u001b[1;33m,\u001b[0m \u001b[0mdownload_results\u001b[0m\u001b[1;33m=\u001b[0m\u001b[1;32mTrue\u001b[0m\u001b[1;33m,\u001b[0m\u001b[1;33m\u001b[0m\u001b[1;33m\u001b[0m\u001b[0m\n\u001b[0;32m    417\u001b[0m                                \u001b[0mthreadpool_size\u001b[0m\u001b[1;33m=\u001b[0m\u001b[0mthreadpool_size\u001b[0m\u001b[1;33m,\u001b[0m\u001b[1;33m\u001b[0m\u001b[1;33m\u001b[0m\u001b[0m\n",
      "\u001b[1;32m~\\AppData\\Local\\Programs\\Python\\Python39\\lib\\site-packages\\lithops\\executors.py\u001b[0m in \u001b[0;36mwait\u001b[1;34m(self, fs, throw_except, return_when, download_results, timeout, threadpool_size, wait_dur_sec)\u001b[0m\n\u001b[0;32m    383\u001b[0m             \u001b[1;32mif\u001b[0m \u001b[0mself\u001b[0m\u001b[1;33m.\u001b[0m\u001b[0mdata_cleaner\u001b[0m \u001b[1;32mand\u001b[0m \u001b[1;32mnot\u001b[0m \u001b[0mself\u001b[0m\u001b[1;33m.\u001b[0m\u001b[0mis_lithops_worker\u001b[0m\u001b[1;33m:\u001b[0m\u001b[1;33m\u001b[0m\u001b[1;33m\u001b[0m\u001b[0m\n\u001b[0;32m    384\u001b[0m                 \u001b[0mself\u001b[0m\u001b[1;33m.\u001b[0m\u001b[0mclean\u001b[0m\u001b[1;33m(\u001b[0m\u001b[0mclean_cloudobjects\u001b[0m\u001b[1;33m=\u001b[0m\u001b[1;32mFalse\u001b[0m\u001b[1;33m,\u001b[0m \u001b[0mforce\u001b[0m\u001b[1;33m=\u001b[0m\u001b[1;32mTrue\u001b[0m\u001b[1;33m)\u001b[0m\u001b[1;33m\u001b[0m\u001b[1;33m\u001b[0m\u001b[0m\n\u001b[1;32m--> 385\u001b[1;33m             \u001b[1;32mraise\u001b[0m \u001b[0me\u001b[0m\u001b[1;33m\u001b[0m\u001b[1;33m\u001b[0m\u001b[0m\n\u001b[0m\u001b[0;32m    386\u001b[0m \u001b[1;33m\u001b[0m\u001b[0m\n\u001b[0;32m    387\u001b[0m         \u001b[1;32mfinally\u001b[0m\u001b[1;33m:\u001b[0m\u001b[1;33m\u001b[0m\u001b[1;33m\u001b[0m\u001b[0m\n",
      "\u001b[1;32m~\\AppData\\Local\\Programs\\Python\\Python39\\lib\\site-packages\\lithops\\executors.py\u001b[0m in \u001b[0;36mwait\u001b[1;34m(self, fs, throw_except, return_when, download_results, timeout, threadpool_size, wait_dur_sec)\u001b[0m\n\u001b[0;32m    367\u001b[0m         \u001b[1;31m# Start waiting for results\u001b[0m\u001b[1;33m\u001b[0m\u001b[1;33m\u001b[0m\u001b[1;33m\u001b[0m\u001b[0m\n\u001b[0;32m    368\u001b[0m         \u001b[1;32mtry\u001b[0m\u001b[1;33m:\u001b[0m\u001b[1;33m\u001b[0m\u001b[1;33m\u001b[0m\u001b[0m\n\u001b[1;32m--> 369\u001b[1;33m             wait(fs=futures,\n\u001b[0m\u001b[0;32m    370\u001b[0m                  \u001b[0minternal_storage\u001b[0m\u001b[1;33m=\u001b[0m\u001b[0mself\u001b[0m\u001b[1;33m.\u001b[0m\u001b[0minternal_storage\u001b[0m\u001b[1;33m,\u001b[0m\u001b[1;33m\u001b[0m\u001b[1;33m\u001b[0m\u001b[0m\n\u001b[0;32m    371\u001b[0m                  \u001b[0mjob_monitor\u001b[0m\u001b[1;33m=\u001b[0m\u001b[0mself\u001b[0m\u001b[1;33m.\u001b[0m\u001b[0mjob_monitor\u001b[0m\u001b[1;33m,\u001b[0m\u001b[1;33m\u001b[0m\u001b[1;33m\u001b[0m\u001b[0m\n",
      "\u001b[1;32m~\\AppData\\Local\\Programs\\Python\\Python39\\lib\\site-packages\\lithops\\wait.py\u001b[0m in \u001b[0;36mwait\u001b[1;34m(fs, internal_storage, throw_except, timeout, return_when, download_results, job_monitor, threadpool_size, wait_dur_sec)\u001b[0m\n\u001b[0;32m    148\u001b[0m \u001b[1;33m\u001b[0m\u001b[0m\n\u001b[0;32m    149\u001b[0m     \u001b[1;32mexcept\u001b[0m \u001b[0mException\u001b[0m \u001b[1;32mas\u001b[0m \u001b[0me\u001b[0m\u001b[1;33m:\u001b[0m\u001b[1;33m\u001b[0m\u001b[1;33m\u001b[0m\u001b[0m\n\u001b[1;32m--> 150\u001b[1;33m         \u001b[1;32mraise\u001b[0m \u001b[0me\u001b[0m\u001b[1;33m\u001b[0m\u001b[1;33m\u001b[0m\u001b[0m\n\u001b[0m\u001b[0;32m    151\u001b[0m \u001b[1;33m\u001b[0m\u001b[0m\n\u001b[0;32m    152\u001b[0m     \u001b[1;32mfinally\u001b[0m\u001b[1;33m:\u001b[0m\u001b[1;33m\u001b[0m\u001b[1;33m\u001b[0m\u001b[0m\n",
      "\u001b[1;32m~\\AppData\\Local\\Programs\\Python\\Python39\\lib\\site-packages\\lithops\\wait.py\u001b[0m in \u001b[0;36mwait\u001b[1;34m(fs, internal_storage, throw_except, timeout, return_when, download_results, job_monitor, threadpool_size, wait_dur_sec)\u001b[0m\n\u001b[0;32m    110\u001b[0m             \u001b[1;32mwhile\u001b[0m \u001b[1;32mnot\u001b[0m \u001b[0m_all_done\u001b[0m\u001b[1;33m(\u001b[0m\u001b[0mfs\u001b[0m\u001b[1;33m,\u001b[0m \u001b[0mdownload_results\u001b[0m\u001b[1;33m)\u001b[0m\u001b[1;33m:\u001b[0m\u001b[1;33m\u001b[0m\u001b[1;33m\u001b[0m\u001b[0m\n\u001b[0;32m    111\u001b[0m                 \u001b[1;32mfor\u001b[0m \u001b[0mjob_data\u001b[0m \u001b[1;32min\u001b[0m \u001b[0mjobs\u001b[0m\u001b[1;33m:\u001b[0m\u001b[1;33m\u001b[0m\u001b[1;33m\u001b[0m\u001b[0m\n\u001b[1;32m--> 112\u001b[1;33m                     new_data = _get_job_data(fs, job_data, pbar=pbar,\n\u001b[0m\u001b[0;32m    113\u001b[0m                                              \u001b[0mthrow_except\u001b[0m\u001b[1;33m=\u001b[0m\u001b[0mthrow_except\u001b[0m\u001b[1;33m,\u001b[0m\u001b[1;33m\u001b[0m\u001b[1;33m\u001b[0m\u001b[0m\n\u001b[0;32m    114\u001b[0m                                              \u001b[0mdownload_results\u001b[0m\u001b[1;33m=\u001b[0m\u001b[0mdownload_results\u001b[0m\u001b[1;33m,\u001b[0m\u001b[1;33m\u001b[0m\u001b[1;33m\u001b[0m\u001b[0m\n",
      "\u001b[1;32m~\\AppData\\Local\\Programs\\Python\\Python39\\lib\\site-packages\\lithops\\wait.py\u001b[0m in \u001b[0;36m_get_job_data\u001b[1;34m(fs, job_data, download_results, throw_except, threadpool_size, pbar, job_monitor)\u001b[0m\n\u001b[0;32m    279\u001b[0m     \u001b[0mpool\u001b[0m \u001b[1;33m=\u001b[0m \u001b[0mcf\u001b[0m\u001b[1;33m.\u001b[0m\u001b[0mThreadPoolExecutor\u001b[0m\u001b[1;33m(\u001b[0m\u001b[0mmax_workers\u001b[0m\u001b[1;33m=\u001b[0m\u001b[0mthreadpool_size\u001b[0m\u001b[1;33m)\u001b[0m\u001b[1;33m\u001b[0m\u001b[1;33m\u001b[0m\u001b[0m\n\u001b[0;32m    280\u001b[0m     \u001b[1;32mif\u001b[0m \u001b[0mdownload_results\u001b[0m\u001b[1;33m:\u001b[0m\u001b[1;33m\u001b[0m\u001b[1;33m\u001b[0m\u001b[0m\n\u001b[1;32m--> 281\u001b[1;33m         \u001b[0mlist\u001b[0m\u001b[1;33m(\u001b[0m\u001b[0mpool\u001b[0m\u001b[1;33m.\u001b[0m\u001b[0mmap\u001b[0m\u001b[1;33m(\u001b[0m\u001b[0mget_result\u001b[0m\u001b[1;33m,\u001b[0m \u001b[0mfs_to_wait_on\u001b[0m\u001b[1;33m)\u001b[0m\u001b[1;33m)\u001b[0m\u001b[1;33m\u001b[0m\u001b[1;33m\u001b[0m\u001b[0m\n\u001b[0m\u001b[0;32m    282\u001b[0m     \u001b[1;32melse\u001b[0m\u001b[1;33m:\u001b[0m\u001b[1;33m\u001b[0m\u001b[1;33m\u001b[0m\u001b[0m\n\u001b[0;32m    283\u001b[0m         \u001b[0mlist\u001b[0m\u001b[1;33m(\u001b[0m\u001b[0mpool\u001b[0m\u001b[1;33m.\u001b[0m\u001b[0mmap\u001b[0m\u001b[1;33m(\u001b[0m\u001b[0mget_status\u001b[0m\u001b[1;33m,\u001b[0m \u001b[0mfs_to_wait_on\u001b[0m\u001b[1;33m)\u001b[0m\u001b[1;33m)\u001b[0m\u001b[1;33m\u001b[0m\u001b[1;33m\u001b[0m\u001b[0m\n",
      "\u001b[1;32m~\\AppData\\Local\\Programs\\Python\\Python39\\lib\\concurrent\\futures\\_base.py\u001b[0m in \u001b[0;36mresult_iterator\u001b[1;34m()\u001b[0m\n\u001b[0;32m    606\u001b[0m                     \u001b[1;31m# Careful not to keep a reference to the popped future\u001b[0m\u001b[1;33m\u001b[0m\u001b[1;33m\u001b[0m\u001b[1;33m\u001b[0m\u001b[0m\n\u001b[0;32m    607\u001b[0m                     \u001b[1;32mif\u001b[0m \u001b[0mtimeout\u001b[0m \u001b[1;32mis\u001b[0m \u001b[1;32mNone\u001b[0m\u001b[1;33m:\u001b[0m\u001b[1;33m\u001b[0m\u001b[1;33m\u001b[0m\u001b[0m\n\u001b[1;32m--> 608\u001b[1;33m                         \u001b[1;32myield\u001b[0m \u001b[0mfs\u001b[0m\u001b[1;33m.\u001b[0m\u001b[0mpop\u001b[0m\u001b[1;33m(\u001b[0m\u001b[1;33m)\u001b[0m\u001b[1;33m.\u001b[0m\u001b[0mresult\u001b[0m\u001b[1;33m(\u001b[0m\u001b[1;33m)\u001b[0m\u001b[1;33m\u001b[0m\u001b[1;33m\u001b[0m\u001b[0m\n\u001b[0m\u001b[0;32m    609\u001b[0m                     \u001b[1;32melse\u001b[0m\u001b[1;33m:\u001b[0m\u001b[1;33m\u001b[0m\u001b[1;33m\u001b[0m\u001b[0m\n\u001b[0;32m    610\u001b[0m                         \u001b[1;32myield\u001b[0m \u001b[0mfs\u001b[0m\u001b[1;33m.\u001b[0m\u001b[0mpop\u001b[0m\u001b[1;33m(\u001b[0m\u001b[1;33m)\u001b[0m\u001b[1;33m.\u001b[0m\u001b[0mresult\u001b[0m\u001b[1;33m(\u001b[0m\u001b[0mend_time\u001b[0m \u001b[1;33m-\u001b[0m \u001b[0mtime\u001b[0m\u001b[1;33m.\u001b[0m\u001b[0mmonotonic\u001b[0m\u001b[1;33m(\u001b[0m\u001b[1;33m)\u001b[0m\u001b[1;33m)\u001b[0m\u001b[1;33m\u001b[0m\u001b[1;33m\u001b[0m\u001b[0m\n",
      "\u001b[1;32m~\\AppData\\Local\\Programs\\Python\\Python39\\lib\\concurrent\\futures\\_base.py\u001b[0m in \u001b[0;36mresult\u001b[1;34m(self, timeout)\u001b[0m\n\u001b[0;32m    443\u001b[0m                     \u001b[1;32mraise\u001b[0m \u001b[0mCancelledError\u001b[0m\u001b[1;33m(\u001b[0m\u001b[1;33m)\u001b[0m\u001b[1;33m\u001b[0m\u001b[1;33m\u001b[0m\u001b[0m\n\u001b[0;32m    444\u001b[0m                 \u001b[1;32melif\u001b[0m \u001b[0mself\u001b[0m\u001b[1;33m.\u001b[0m\u001b[0m_state\u001b[0m \u001b[1;33m==\u001b[0m \u001b[0mFINISHED\u001b[0m\u001b[1;33m:\u001b[0m\u001b[1;33m\u001b[0m\u001b[1;33m\u001b[0m\u001b[0m\n\u001b[1;32m--> 445\u001b[1;33m                     \u001b[1;32mreturn\u001b[0m \u001b[0mself\u001b[0m\u001b[1;33m.\u001b[0m\u001b[0m__get_result\u001b[0m\u001b[1;33m(\u001b[0m\u001b[1;33m)\u001b[0m\u001b[1;33m\u001b[0m\u001b[1;33m\u001b[0m\u001b[0m\n\u001b[0m\u001b[0;32m    446\u001b[0m                 \u001b[1;32melse\u001b[0m\u001b[1;33m:\u001b[0m\u001b[1;33m\u001b[0m\u001b[1;33m\u001b[0m\u001b[0m\n\u001b[0;32m    447\u001b[0m                     \u001b[1;32mraise\u001b[0m \u001b[0mTimeoutError\u001b[0m\u001b[1;33m(\u001b[0m\u001b[1;33m)\u001b[0m\u001b[1;33m\u001b[0m\u001b[1;33m\u001b[0m\u001b[0m\n",
      "\u001b[1;32m~\\AppData\\Local\\Programs\\Python\\Python39\\lib\\concurrent\\futures\\_base.py\u001b[0m in \u001b[0;36m__get_result\u001b[1;34m(self)\u001b[0m\n\u001b[0;32m    388\u001b[0m         \u001b[1;32mif\u001b[0m \u001b[0mself\u001b[0m\u001b[1;33m.\u001b[0m\u001b[0m_exception\u001b[0m\u001b[1;33m:\u001b[0m\u001b[1;33m\u001b[0m\u001b[1;33m\u001b[0m\u001b[0m\n\u001b[0;32m    389\u001b[0m             \u001b[1;32mtry\u001b[0m\u001b[1;33m:\u001b[0m\u001b[1;33m\u001b[0m\u001b[1;33m\u001b[0m\u001b[0m\n\u001b[1;32m--> 390\u001b[1;33m                 \u001b[1;32mraise\u001b[0m \u001b[0mself\u001b[0m\u001b[1;33m.\u001b[0m\u001b[0m_exception\u001b[0m\u001b[1;33m\u001b[0m\u001b[1;33m\u001b[0m\u001b[0m\n\u001b[0m\u001b[0;32m    391\u001b[0m             \u001b[1;32mfinally\u001b[0m\u001b[1;33m:\u001b[0m\u001b[1;33m\u001b[0m\u001b[1;33m\u001b[0m\u001b[0m\n\u001b[0;32m    392\u001b[0m                 \u001b[1;31m# Break a reference cycle with the exception in self._exception\u001b[0m\u001b[1;33m\u001b[0m\u001b[1;33m\u001b[0m\u001b[1;33m\u001b[0m\u001b[0m\n",
      "\u001b[1;32m~\\AppData\\Local\\Programs\\Python\\Python39\\lib\\concurrent\\futures\\thread.py\u001b[0m in \u001b[0;36mrun\u001b[1;34m(self)\u001b[0m\n\u001b[0;32m     50\u001b[0m \u001b[1;33m\u001b[0m\u001b[0m\n\u001b[0;32m     51\u001b[0m         \u001b[1;32mtry\u001b[0m\u001b[1;33m:\u001b[0m\u001b[1;33m\u001b[0m\u001b[1;33m\u001b[0m\u001b[0m\n\u001b[1;32m---> 52\u001b[1;33m             \u001b[0mresult\u001b[0m \u001b[1;33m=\u001b[0m \u001b[0mself\u001b[0m\u001b[1;33m.\u001b[0m\u001b[0mfn\u001b[0m\u001b[1;33m(\u001b[0m\u001b[1;33m*\u001b[0m\u001b[0mself\u001b[0m\u001b[1;33m.\u001b[0m\u001b[0margs\u001b[0m\u001b[1;33m,\u001b[0m \u001b[1;33m**\u001b[0m\u001b[0mself\u001b[0m\u001b[1;33m.\u001b[0m\u001b[0mkwargs\u001b[0m\u001b[1;33m)\u001b[0m\u001b[1;33m\u001b[0m\u001b[1;33m\u001b[0m\u001b[0m\n\u001b[0m\u001b[0;32m     53\u001b[0m         \u001b[1;32mexcept\u001b[0m \u001b[0mBaseException\u001b[0m \u001b[1;32mas\u001b[0m \u001b[0mexc\u001b[0m\u001b[1;33m:\u001b[0m\u001b[1;33m\u001b[0m\u001b[1;33m\u001b[0m\u001b[0m\n\u001b[0;32m     54\u001b[0m             \u001b[0mself\u001b[0m\u001b[1;33m.\u001b[0m\u001b[0mfuture\u001b[0m\u001b[1;33m.\u001b[0m\u001b[0mset_exception\u001b[0m\u001b[1;33m(\u001b[0m\u001b[0mexc\u001b[0m\u001b[1;33m)\u001b[0m\u001b[1;33m\u001b[0m\u001b[1;33m\u001b[0m\u001b[0m\n",
      "\u001b[1;32m~\\AppData\\Local\\Programs\\Python\\Python39\\lib\\site-packages\\lithops\\wait.py\u001b[0m in \u001b[0;36mget_result\u001b[1;34m(f)\u001b[0m\n\u001b[0;32m    272\u001b[0m \u001b[1;33m\u001b[0m\u001b[0m\n\u001b[0;32m    273\u001b[0m     \u001b[1;32mdef\u001b[0m \u001b[0mget_result\u001b[0m\u001b[1;33m(\u001b[0m\u001b[0mf\u001b[0m\u001b[1;33m)\u001b[0m\u001b[1;33m:\u001b[0m\u001b[1;33m\u001b[0m\u001b[1;33m\u001b[0m\u001b[0m\n\u001b[1;32m--> 274\u001b[1;33m         \u001b[0mf\u001b[0m\u001b[1;33m.\u001b[0m\u001b[0mresult\u001b[0m\u001b[1;33m(\u001b[0m\u001b[0mthrow_except\u001b[0m\u001b[1;33m=\u001b[0m\u001b[0mthrow_except\u001b[0m\u001b[1;33m,\u001b[0m \u001b[0minternal_storage\u001b[0m\u001b[1;33m=\u001b[0m\u001b[0minternal_storage\u001b[0m\u001b[1;33m)\u001b[0m\u001b[1;33m\u001b[0m\u001b[1;33m\u001b[0m\u001b[0m\n\u001b[0m\u001b[0;32m    275\u001b[0m \u001b[1;33m\u001b[0m\u001b[0m\n\u001b[0;32m    276\u001b[0m     \u001b[1;32mdef\u001b[0m \u001b[0mget_status\u001b[0m\u001b[1;33m(\u001b[0m\u001b[0mf\u001b[0m\u001b[1;33m)\u001b[0m\u001b[1;33m:\u001b[0m\u001b[1;33m\u001b[0m\u001b[1;33m\u001b[0m\u001b[0m\n",
      "\u001b[1;32m~\\AppData\\Local\\Programs\\Python\\Python39\\lib\\site-packages\\lithops\\future.py\u001b[0m in \u001b[0;36mresult\u001b[1;34m(self, throw_except, internal_storage)\u001b[0m\n\u001b[0;32m    317\u001b[0m             \u001b[0minternal_storage\u001b[0m \u001b[1;33m=\u001b[0m \u001b[0mInternalStorage\u001b[0m\u001b[1;33m(\u001b[0m\u001b[0mstorage_config\u001b[0m\u001b[1;33m=\u001b[0m\u001b[0mself\u001b[0m\u001b[1;33m.\u001b[0m\u001b[0m_storage_config\u001b[0m\u001b[1;33m)\u001b[0m\u001b[1;33m\u001b[0m\u001b[1;33m\u001b[0m\u001b[0m\n\u001b[0;32m    318\u001b[0m \u001b[1;33m\u001b[0m\u001b[0m\n\u001b[1;32m--> 319\u001b[1;33m         \u001b[0mself\u001b[0m\u001b[1;33m.\u001b[0m\u001b[0mstatus\u001b[0m\u001b[1;33m(\u001b[0m\u001b[0mthrow_except\u001b[0m\u001b[1;33m=\u001b[0m\u001b[0mthrow_except\u001b[0m\u001b[1;33m,\u001b[0m \u001b[0minternal_storage\u001b[0m\u001b[1;33m=\u001b[0m\u001b[0minternal_storage\u001b[0m\u001b[1;33m)\u001b[0m\u001b[1;33m\u001b[0m\u001b[1;33m\u001b[0m\u001b[0m\n\u001b[0m\u001b[0;32m    320\u001b[0m \u001b[1;33m\u001b[0m\u001b[0m\n\u001b[0;32m    321\u001b[0m         \u001b[1;32mif\u001b[0m \u001b[0mself\u001b[0m\u001b[1;33m.\u001b[0m\u001b[0m_state\u001b[0m \u001b[1;33m==\u001b[0m \u001b[0mResponseFuture\u001b[0m\u001b[1;33m.\u001b[0m\u001b[0mState\u001b[0m\u001b[1;33m.\u001b[0m\u001b[0mDone\u001b[0m\u001b[1;33m:\u001b[0m\u001b[1;33m\u001b[0m\u001b[1;33m\u001b[0m\u001b[0m\n",
      "\u001b[1;32m~\\AppData\\Local\\Programs\\Python\\Python39\\lib\\site-packages\\lithops\\future.py\u001b[0m in \u001b[0;36mstatus\u001b[1;34m(self, throw_except, internal_storage, check_only)\u001b[0m\n\u001b[0;32m    253\u001b[0m             \u001b[1;32mif\u001b[0m \u001b[0mthrow_except\u001b[0m\u001b[1;33m:\u001b[0m\u001b[1;33m\u001b[0m\u001b[1;33m\u001b[0m\u001b[0m\n\u001b[0;32m    254\u001b[0m                 \u001b[0msys\u001b[0m\u001b[1;33m.\u001b[0m\u001b[0mexcepthook\u001b[0m \u001b[1;33m=\u001b[0m \u001b[0mexception_hook\u001b[0m\u001b[1;33m\u001b[0m\u001b[1;33m\u001b[0m\u001b[0m\n\u001b[1;32m--> 255\u001b[1;33m                 \u001b[0mreraise\u001b[0m\u001b[1;33m(\u001b[0m\u001b[1;33m*\u001b[0m\u001b[0mself\u001b[0m\u001b[1;33m.\u001b[0m\u001b[0m_exception\u001b[0m\u001b[1;33m)\u001b[0m\u001b[1;33m\u001b[0m\u001b[1;33m\u001b[0m\u001b[0m\n\u001b[0m\u001b[0;32m    256\u001b[0m             \u001b[1;32melse\u001b[0m\u001b[1;33m:\u001b[0m\u001b[1;33m\u001b[0m\u001b[1;33m\u001b[0m\u001b[0m\n\u001b[0;32m    257\u001b[0m                 \u001b[0mlogger\u001b[0m\u001b[1;33m.\u001b[0m\u001b[0mwarning\u001b[0m\u001b[1;33m(\u001b[0m\u001b[0mmsg1\u001b[0m\u001b[1;33m)\u001b[0m\u001b[1;33m\u001b[0m\u001b[1;33m\u001b[0m\u001b[0m\n",
      "\u001b[1;32m~\\AppData\\Local\\Programs\\Python\\Python39\\lib\\site-packages\\six.py\u001b[0m in \u001b[0;36mreraise\u001b[1;34m(tp, value, tb)\u001b[0m\n\u001b[0;32m    716\u001b[0m                 \u001b[0mvalue\u001b[0m \u001b[1;33m=\u001b[0m \u001b[0mtp\u001b[0m\u001b[1;33m(\u001b[0m\u001b[1;33m)\u001b[0m\u001b[1;33m\u001b[0m\u001b[1;33m\u001b[0m\u001b[0m\n\u001b[0;32m    717\u001b[0m             \u001b[1;32mif\u001b[0m \u001b[0mvalue\u001b[0m\u001b[1;33m.\u001b[0m\u001b[0m__traceback__\u001b[0m \u001b[1;32mis\u001b[0m \u001b[1;32mnot\u001b[0m \u001b[0mtb\u001b[0m\u001b[1;33m:\u001b[0m\u001b[1;33m\u001b[0m\u001b[1;33m\u001b[0m\u001b[0m\n\u001b[1;32m--> 718\u001b[1;33m                 \u001b[1;32mraise\u001b[0m \u001b[0mvalue\u001b[0m\u001b[1;33m.\u001b[0m\u001b[0mwith_traceback\u001b[0m\u001b[1;33m(\u001b[0m\u001b[0mtb\u001b[0m\u001b[1;33m)\u001b[0m\u001b[1;33m\u001b[0m\u001b[1;33m\u001b[0m\u001b[0m\n\u001b[0m\u001b[0;32m    719\u001b[0m             \u001b[1;32mraise\u001b[0m \u001b[0mvalue\u001b[0m\u001b[1;33m\u001b[0m\u001b[1;33m\u001b[0m\u001b[0m\n\u001b[0;32m    720\u001b[0m         \u001b[1;32mfinally\u001b[0m\u001b[1;33m:\u001b[0m\u001b[1;33m\u001b[0m\u001b[1;33m\u001b[0m\u001b[0m\n",
      "\u001b[1;32m/action/lithops/worker/jobrunner.py\u001b[0m in \u001b[0;36mrun\u001b[1;34m()\u001b[0m\n",
      "\u001b[1;32m<ipython-input-26-176eede371c7>\u001b[0m in \u001b[0;36mscrapSearch\u001b[1;34m()\u001b[0m\n\u001b[0;32m      6\u001b[0m     \u001b[0mcounter\u001b[0m \u001b[1;33m=\u001b[0m \u001b[1;36m0\u001b[0m\u001b[1;33m\u001b[0m\u001b[1;33m\u001b[0m\u001b[0m\n\u001b[0;32m      7\u001b[0m \u001b[1;33m\u001b[0m\u001b[0m\n\u001b[1;32m----> 8\u001b[1;33m     \u001b[1;32mfor\u001b[0m \u001b[0mtweet\u001b[0m \u001b[1;32min\u001b[0m \u001b[0mTwitterSearchScraper\u001b[0m\u001b[1;33m(\u001b[0m\u001b[0mstr_to_search\u001b[0m\u001b[1;33m)\u001b[0m\u001b[1;33m.\u001b[0m\u001b[0mget_items\u001b[0m\u001b[1;33m(\u001b[0m\u001b[1;33m)\u001b[0m\u001b[1;33m:\u001b[0m\u001b[1;33m\u001b[0m\u001b[1;33m\u001b[0m\u001b[0m\n\u001b[0m\u001b[0;32m      9\u001b[0m         \u001b[0mtweets\u001b[0m \u001b[1;33m=\u001b[0m \u001b[0mtweets\u001b[0m \u001b[1;33m+\u001b[0m \u001b[0mtweet\u001b[0m\u001b[1;33m.\u001b[0m\u001b[0mto_json\u001b[0m\u001b[1;33m(\u001b[0m\u001b[1;33m)\u001b[0m \u001b[1;33m+\u001b[0m \u001b[1;34m'\\n'\u001b[0m\u001b[1;33m\u001b[0m\u001b[1;33m\u001b[0m\u001b[0m\n\u001b[0;32m     10\u001b[0m \u001b[1;33m\u001b[0m\u001b[0m\n",
      "\u001b[1;32m/tmp/lithops/modules/ec16eb-4-M000/custom_snscrape/twitter.py\u001b[0m in \u001b[0;36mget_items\u001b[1;34m()\u001b[0m\n",
      "\u001b[1;32m/tmp/lithops/modules/ec16eb-4-M000/custom_snscrape/twitter.py\u001b[0m in \u001b[0;36m_iter_api_data\u001b[1;34m()\u001b[0m\n",
      "\u001b[1;32m/tmp/lithops/modules/ec16eb-4-M000/custom_snscrape/twitter.py\u001b[0m in \u001b[0;36m_get_api_data\u001b[1;34m()\u001b[0m\n",
      "\u001b[1;32m/tmp/lithops/modules/ec16eb-4-M000/custom_snscrape/snscrape_base.py\u001b[0m in \u001b[0;36m_get\u001b[1;34m()\u001b[0m\n",
      "\u001b[1;32m/tmp/lithops/modules/ec16eb-4-M000/custom_snscrape/snscrape_base.py\u001b[0m in \u001b[0;36m_request\u001b[1;34m()\u001b[0m\n",
      "\u001b[1;31mScraperException\u001b[0m: 4 requests to https://api.twitter.com/2/search/adaptive.json?include_profile_interstitial_type=1&include_blocking=1&include_blocked_by=1&include_followed_by=1&include_want_retweets=1&include_mute_edge=1&include_can_dm=1&include_can_media_tag=1&skip_status=1&cards_platform=Web-12&include_cards=1&include_ext_alt_text=true&include_quote_count=true&include_reply_count=1&tweet_mode=extended&include_entities=true&include_user_entities=true&include_ext_media_color=true&include_ext_media_availability=true&send_error_codes=true&simple_quoted_tweets=true&q=%23covid+-%23sars+-%23covid+near%3ATarrragona+since%3A2020-02-01&tweet_search_mode=live&count=100&query_source=spelling_expansion_revert_click&pc=1&spelling_corrections=1&ext=ext%3DmediaStats%252ChighlightedLabel failed, giving up."
     ]
    }
   ],
   "source": [
    "import lithops\n",
    "\n",
    "with lithops.FunctionExecutor(log_level='debug') as fexec:\n",
    "    all_invocations = fexec.map(scrapSearch, queries)\n",
    "    print(fexec.get_result())"
   ]
  },
  {
   "cell_type": "code",
   "execution_count": null,
   "metadata": {},
   "outputs": [],
   "source": []
  }
 ],
 "metadata": {
  "colab": {
   "collapsed_sections": [],
   "name": "Cloudbutton.ipynb",
   "provenance": []
  },
  "kernelspec": {
   "name": "python395jvsc74a57bd00fea3860711d11a676a434767f0638ff5bfa64c2bb66d26fba12e7e1c208afc5",
   "display_name": "Python 3.9.5 64-bit"
  },
  "language_info": {
   "codemirror_mode": {
    "name": "ipython",
    "version": 3
   },
   "file_extension": ".py",
   "mimetype": "text/x-python",
   "name": "python",
   "nbconvert_exporter": "python",
   "pygments_lexer": "ipython3",
   "version": "3.9.5"
  }
 },
 "nbformat": 4,
 "nbformat_minor": 1
}