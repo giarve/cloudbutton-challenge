{
 "cells": [
  {
   "cell_type": "markdown",
   "metadata": {},
   "source": [
    "Stage 1: Data crawler. Massively parallel functions crawling data and storing it in Cloud Object Storage.  Obtain information from web pages or tweets and create a dataset of text data. Use FaaS backend in lithops to launch crawling process over serverless functions."
   ]
  },
  {
   "cell_type": "code",
   "execution_count": 1,
   "metadata": {},
   "outputs": [],
   "source": [
    "import lithops\n"
   ]
  },
  {
   "cell_type": "markdown",
   "metadata": {
    "id": "GwXSVKdAk3U4"
   },
   "source": []
  },
  {
   "cell_type": "code",
   "execution_count": 9,
   "metadata": {
    "id": "auDgTfW1NYg2",
    "scrolled": false
   },
   "outputs": [
    {
     "output_type": "stream",
     "name": "stderr",
     "text": [
      "2021-05-17 00:57:05,688 [INFO] lithops.config -- Lithops v2.3.3\n",
      "2021-05-17 00:57:05,704 [INFO] lithops.storage.backends.ibm_cos.ibm_cos -- IBM COS Storage client created - Region: eu-de\n",
      "2021-05-17 00:57:05,707 [INFO] lithops.serverless.backends.ibm_cf.ibm_cf -- IBM CF client created - Region: eu-de - Namespace: Namespace-n4e-colab\n",
      "2021-05-17 00:57:05,708 [INFO] lithops.executors -- Serverless Executor created with ID: 4ce886-7\n",
      "2021-05-17 00:57:05,708 [INFO] lithops.invokers -- ExecutorID 4ce886-7 | JobID M000 - Selected Runtime: lithopscloud/ibmcf-python-v39 - 256MB\n",
      "2021-05-17 00:57:06,008 [INFO] lithops.invokers -- Runtime lithopscloud/ibmcf-python-v39 with 256MB is not yet installed\n",
      "2021-05-17 00:57:06,010 [INFO] lithops.serverless.backends.ibm_cf.ibm_cf -- Creating new Lithops runtime based on Docker image lithopscloud/ibmcf-python-v39\n",
      "2021-05-17 00:57:08,916 [INFO] lithops.job.job -- ExecutorID 4ce886-7 | JobID M000 - Uploading function and data - Total: 45.4KiB\n",
      "2021-05-17 00:57:09,277 [INFO] lithops.invokers -- ExecutorID 4ce886-7 | JobID M000 - Starting function invocation: scrapSearch() - Total: 3 activations\n",
      "2021-05-17 00:57:09,280 [INFO] lithops.invokers -- ExecutorID 4ce886-7 | JobID M000 - View execution logs at /tmp/lithops/logs/4ce886-7-M000.log\n",
      "2021-05-17 00:57:09,283 [INFO] lithops.wait -- ExecutorID 4ce886-7 - Getting results from functions\n",
      "2021-05-17 00:57:17,526 [INFO] lithops.executors -- ExecutorID 4ce886-7 - Cleaning temporary data\n",
      "['OK', 'OK', 'OK']\n"
     ]
    }
   ],
   "source": [
    "from twitter import TwitterSearchScraper\n",
    "from snscrape_base import _json_dataclass_to_dict\n",
    "\n",
    "# TODO: Improve function names...\n",
    "# TODO: Read this https://github.com/lithops-cloud/lithops/blob/master/docs/api_storage.md\n",
    "# TODO: put_object vs put_cloudobject?\n",
    "\n",
    "def scrapSearch(str_to_search, storage):\n",
    "    for tweet in TwitterSearchScraper(str_to_search).get_items():\n",
    "\n",
    "        key_prefix = str_to_search\n",
    "\n",
    "        storage.put_object(bucket='colab',\n",
    "                              key=key_prefix+'/'+str(tweet.id),\n",
    "                              body=str(_json_dataclass_to_dict(tweet)))\n",
    "        \n",
    "        break # testing: only 1 result\n",
    "\n",
    "    return \"OK\"\n",
    "\n",
    "\n",
    "with lithops.FunctionExecutor() as fexec:\n",
    "    # TODO: each member of the array should be exclusive with the rest (adapt SearchScraper to exclude the other words/strings using the minus sign \"-#covid\", \"#sars\")\n",
    "    # so that cursors could be parallelised\n",
    "    all_invocations = fexec.map(scrapSearch, ['#covid', '#sars', '#coronavirus'])\n",
    "    print(fexec.get_result())"
   ]
  },
  {
   "source": [
    "Tweets: \n",
    "1) Pedro Sanchez\n",
    " https://twitter.com/sanchezcastejon/status/1388184494235127814\n",
    " https://twitter.com/sanchezcastejon/status/1376241393396543492\n",
    " https://twitter.com/sanchezcastejon/status/1371013139987365888\n",
    "\n",
    "2)  Boris Johnson\n",
    "https://twitter.com/BorisJohnson/status/1391413912889921542\n",
    "https://twitter.com/BorisJohnson/status/1363552116133023744\n",
    "https://twitter.com/BorisJohnson/status/1354147835369959435\n",
    "\n",
    "3) Joe Biden\n",
    "https://twitter.com/JoeBiden/status/1386426190861197313\n",
    "https://twitter.com/POTUS/status/1373037818277167112\n",
    "https://twitter.com/POTUS/status/1384136220284915712\n",
    "https://twitter.com/POTUS/status/1368993395172139014\n",
    "\n",
    "4) Elon Musk\n",
    "https://twitter.com/elonmusk/status/1256240766600409088\n",
    "\n",
    "\n"
   ],
   "cell_type": "code",
   "metadata": {
    "id": "tKODudhkBnmv"
   },
   "execution_count": null,
   "outputs": []
  }
 ],
 "metadata": {
  "colab": {
   "collapsed_sections": [],
   "name": "Cloudbutton.ipynb",
   "provenance": []
  },
  "kernelspec": {
   "display_name": "Python 3",
   "language": "python",
   "name": "python3"
  },
  "language_info": {
   "codemirror_mode": {
    "name": "ipython",
    "version": 3
   },
   "file_extension": ".py",
   "mimetype": "text/x-python",
   "name": "python",
   "nbconvert_exporter": "python",
   "pygments_lexer": "ipython3",
   "version": "3.9.4"
  }
 },
 "nbformat": 4,
 "nbformat_minor": 1
}